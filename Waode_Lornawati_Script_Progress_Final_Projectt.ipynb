{
  "nbformat": 4,
  "nbformat_minor": 0,
  "metadata": {
    "colab": {
      "name": "Waode Lornawati - Script Progress Final Projectt.ipynb",
      "provenance": [],
      "collapsed_sections": [],
      "authorship_tag": "ABX9TyMjadbkQyQ+ac+xMuVcEJpb"
    },
    "kernelspec": {
      "name": "python3",
      "display_name": "Python 3"
    },
    "language_info": {
      "name": "python"
    }
  },
  "cells": [
    {
      "cell_type": "markdown",
      "source": [
        "# Import Library"
      ],
      "metadata": {
        "id": "ZqqW19n-zX7r"
      }
    },
    {
      "cell_type": "code",
      "source": [
        "from google.colab import drive\n",
        "drive.mount('/content/gdrive')"
      ],
      "metadata": {
        "colab": {
          "base_uri": "https://localhost:8080/"
        },
        "id": "sJck7kwizdbZ",
        "outputId": "a25b2975-e25a-4a81-dcd1-f236e2c25da6"
      },
      "execution_count": null,
      "outputs": [
        {
          "output_type": "stream",
          "name": "stdout",
          "text": [
            "Mounted at /content/gdrive\n"
          ]
        }
      ]
    },
    {
      "cell_type": "code",
      "execution_count": null,
      "metadata": {
        "id": "VytdVSg6zUHT"
      },
      "outputs": [],
      "source": [
        "import pandas as pd\n",
        "import numpy as np\n",
        "import seaborn as sns\n",
        "import matplotlib.pyplot as plt\n",
        "from sklearn.metrics import mean_squared_error\n",
        "from sklearn.compose import ColumnTransformer\n",
        "from sklearn.pipeline import Pipeline\n",
        "from sklearn.impute import SimpleImputer\n",
        "from sklearn.preprocessing import StandardScaler, OneHotEncoder\n",
        "from sklearn.linear_model import LogisticRegression\n",
        "from sklearn.model_selection import train_test_split, GridSearchCV"
      ]
    },
    {
      "cell_type": "markdown",
      "source": [
        "dataset being used: https://www.kaggle.com/kumarajarshi/life-expectancy-who"
      ],
      "metadata": {
        "id": "-7qDrMTlC8fO"
      }
    },
    {
      "cell_type": "markdown",
      "source": [
        "#Load data"
      ],
      "metadata": {
        "id": "hEuPmdStzwbB"
      }
    },
    {
      "cell_type": "code",
      "source": [
        "data = pd.read_csv('/content/gdrive/MyDrive/Colab Notebooks/portfolio/Life Expectancy Data.csv')\n",
        "data.head()"
      ],
      "metadata": {
        "colab": {
          "base_uri": "https://localhost:8080/",
          "height": 322
        },
        "id": "LUKH3wcO0t9I",
        "outputId": "e7ff8f20-878a-4f5d-c8ec-893a490d1d84"
      },
      "execution_count": null,
      "outputs": [
        {
          "output_type": "execute_result",
          "data": {
            "text/html": [
              "\n",
              "  <div id=\"df-fff05a8d-a7ad-4546-a0a2-2d602bcdb715\">\n",
              "    <div class=\"colab-df-container\">\n",
              "      <div>\n",
              "<style scoped>\n",
              "    .dataframe tbody tr th:only-of-type {\n",
              "        vertical-align: middle;\n",
              "    }\n",
              "\n",
              "    .dataframe tbody tr th {\n",
              "        vertical-align: top;\n",
              "    }\n",
              "\n",
              "    .dataframe thead th {\n",
              "        text-align: right;\n",
              "    }\n",
              "</style>\n",
              "<table border=\"1\" class=\"dataframe\">\n",
              "  <thead>\n",
              "    <tr style=\"text-align: right;\">\n",
              "      <th></th>\n",
              "      <th>Country</th>\n",
              "      <th>Year</th>\n",
              "      <th>Status</th>\n",
              "      <th>Life expectancy</th>\n",
              "      <th>Adult Mortality</th>\n",
              "      <th>infant deaths</th>\n",
              "      <th>Alcohol</th>\n",
              "      <th>percentage expenditure</th>\n",
              "      <th>Hepatitis B</th>\n",
              "      <th>Measles</th>\n",
              "      <th>BMI</th>\n",
              "      <th>under-five deaths</th>\n",
              "      <th>Polio</th>\n",
              "      <th>Total expenditure</th>\n",
              "      <th>Diphtheria</th>\n",
              "      <th>HIV/AIDS</th>\n",
              "      <th>GDP</th>\n",
              "      <th>Population</th>\n",
              "      <th>thinness  1-19 years</th>\n",
              "      <th>thinness 5-9 years</th>\n",
              "      <th>Income composition of resources</th>\n",
              "      <th>Schooling</th>\n",
              "    </tr>\n",
              "  </thead>\n",
              "  <tbody>\n",
              "    <tr>\n",
              "      <th>0</th>\n",
              "      <td>Afghanistan</td>\n",
              "      <td>2015</td>\n",
              "      <td>Developing</td>\n",
              "      <td>65.0</td>\n",
              "      <td>263.0</td>\n",
              "      <td>62</td>\n",
              "      <td>0.01</td>\n",
              "      <td>71.279624</td>\n",
              "      <td>65.0</td>\n",
              "      <td>1154</td>\n",
              "      <td>19.1</td>\n",
              "      <td>83</td>\n",
              "      <td>6.0</td>\n",
              "      <td>8.16</td>\n",
              "      <td>65.0</td>\n",
              "      <td>0.1</td>\n",
              "      <td>584.259210</td>\n",
              "      <td>33736494.0</td>\n",
              "      <td>17.2</td>\n",
              "      <td>17.3</td>\n",
              "      <td>0.479</td>\n",
              "      <td>10.1</td>\n",
              "    </tr>\n",
              "    <tr>\n",
              "      <th>1</th>\n",
              "      <td>Afghanistan</td>\n",
              "      <td>2014</td>\n",
              "      <td>Developing</td>\n",
              "      <td>59.9</td>\n",
              "      <td>271.0</td>\n",
              "      <td>64</td>\n",
              "      <td>0.01</td>\n",
              "      <td>73.523582</td>\n",
              "      <td>62.0</td>\n",
              "      <td>492</td>\n",
              "      <td>18.6</td>\n",
              "      <td>86</td>\n",
              "      <td>58.0</td>\n",
              "      <td>8.18</td>\n",
              "      <td>62.0</td>\n",
              "      <td>0.1</td>\n",
              "      <td>612.696514</td>\n",
              "      <td>327582.0</td>\n",
              "      <td>17.5</td>\n",
              "      <td>17.5</td>\n",
              "      <td>0.476</td>\n",
              "      <td>10.0</td>\n",
              "    </tr>\n",
              "    <tr>\n",
              "      <th>2</th>\n",
              "      <td>Afghanistan</td>\n",
              "      <td>2013</td>\n",
              "      <td>Developing</td>\n",
              "      <td>59.9</td>\n",
              "      <td>268.0</td>\n",
              "      <td>66</td>\n",
              "      <td>0.01</td>\n",
              "      <td>73.219243</td>\n",
              "      <td>64.0</td>\n",
              "      <td>430</td>\n",
              "      <td>18.1</td>\n",
              "      <td>89</td>\n",
              "      <td>62.0</td>\n",
              "      <td>8.13</td>\n",
              "      <td>64.0</td>\n",
              "      <td>0.1</td>\n",
              "      <td>631.744976</td>\n",
              "      <td>31731688.0</td>\n",
              "      <td>17.7</td>\n",
              "      <td>17.7</td>\n",
              "      <td>0.470</td>\n",
              "      <td>9.9</td>\n",
              "    </tr>\n",
              "    <tr>\n",
              "      <th>3</th>\n",
              "      <td>Afghanistan</td>\n",
              "      <td>2012</td>\n",
              "      <td>Developing</td>\n",
              "      <td>59.5</td>\n",
              "      <td>272.0</td>\n",
              "      <td>69</td>\n",
              "      <td>0.01</td>\n",
              "      <td>78.184215</td>\n",
              "      <td>67.0</td>\n",
              "      <td>2787</td>\n",
              "      <td>17.6</td>\n",
              "      <td>93</td>\n",
              "      <td>67.0</td>\n",
              "      <td>8.52</td>\n",
              "      <td>67.0</td>\n",
              "      <td>0.1</td>\n",
              "      <td>669.959000</td>\n",
              "      <td>3696958.0</td>\n",
              "      <td>17.9</td>\n",
              "      <td>18.0</td>\n",
              "      <td>0.463</td>\n",
              "      <td>9.8</td>\n",
              "    </tr>\n",
              "    <tr>\n",
              "      <th>4</th>\n",
              "      <td>Afghanistan</td>\n",
              "      <td>2011</td>\n",
              "      <td>Developing</td>\n",
              "      <td>59.2</td>\n",
              "      <td>275.0</td>\n",
              "      <td>71</td>\n",
              "      <td>0.01</td>\n",
              "      <td>7.097109</td>\n",
              "      <td>68.0</td>\n",
              "      <td>3013</td>\n",
              "      <td>17.2</td>\n",
              "      <td>97</td>\n",
              "      <td>68.0</td>\n",
              "      <td>7.87</td>\n",
              "      <td>68.0</td>\n",
              "      <td>0.1</td>\n",
              "      <td>63.537231</td>\n",
              "      <td>2978599.0</td>\n",
              "      <td>18.2</td>\n",
              "      <td>18.2</td>\n",
              "      <td>0.454</td>\n",
              "      <td>9.5</td>\n",
              "    </tr>\n",
              "  </tbody>\n",
              "</table>\n",
              "</div>\n",
              "      <button class=\"colab-df-convert\" onclick=\"convertToInteractive('df-fff05a8d-a7ad-4546-a0a2-2d602bcdb715')\"\n",
              "              title=\"Convert this dataframe to an interactive table.\"\n",
              "              style=\"display:none;\">\n",
              "        \n",
              "  <svg xmlns=\"http://www.w3.org/2000/svg\" height=\"24px\"viewBox=\"0 0 24 24\"\n",
              "       width=\"24px\">\n",
              "    <path d=\"M0 0h24v24H0V0z\" fill=\"none\"/>\n",
              "    <path d=\"M18.56 5.44l.94 2.06.94-2.06 2.06-.94-2.06-.94-.94-2.06-.94 2.06-2.06.94zm-11 1L8.5 8.5l.94-2.06 2.06-.94-2.06-.94L8.5 2.5l-.94 2.06-2.06.94zm10 10l.94 2.06.94-2.06 2.06-.94-2.06-.94-.94-2.06-.94 2.06-2.06.94z\"/><path d=\"M17.41 7.96l-1.37-1.37c-.4-.4-.92-.59-1.43-.59-.52 0-1.04.2-1.43.59L10.3 9.45l-7.72 7.72c-.78.78-.78 2.05 0 2.83L4 21.41c.39.39.9.59 1.41.59.51 0 1.02-.2 1.41-.59l7.78-7.78 2.81-2.81c.8-.78.8-2.07 0-2.86zM5.41 20L4 18.59l7.72-7.72 1.47 1.35L5.41 20z\"/>\n",
              "  </svg>\n",
              "      </button>\n",
              "      \n",
              "  <style>\n",
              "    .colab-df-container {\n",
              "      display:flex;\n",
              "      flex-wrap:wrap;\n",
              "      gap: 12px;\n",
              "    }\n",
              "\n",
              "    .colab-df-convert {\n",
              "      background-color: #E8F0FE;\n",
              "      border: none;\n",
              "      border-radius: 50%;\n",
              "      cursor: pointer;\n",
              "      display: none;\n",
              "      fill: #1967D2;\n",
              "      height: 32px;\n",
              "      padding: 0 0 0 0;\n",
              "      width: 32px;\n",
              "    }\n",
              "\n",
              "    .colab-df-convert:hover {\n",
              "      background-color: #E2EBFA;\n",
              "      box-shadow: 0px 1px 2px rgba(60, 64, 67, 0.3), 0px 1px 3px 1px rgba(60, 64, 67, 0.15);\n",
              "      fill: #174EA6;\n",
              "    }\n",
              "\n",
              "    [theme=dark] .colab-df-convert {\n",
              "      background-color: #3B4455;\n",
              "      fill: #D2E3FC;\n",
              "    }\n",
              "\n",
              "    [theme=dark] .colab-df-convert:hover {\n",
              "      background-color: #434B5C;\n",
              "      box-shadow: 0px 1px 3px 1px rgba(0, 0, 0, 0.15);\n",
              "      filter: drop-shadow(0px 1px 2px rgba(0, 0, 0, 0.3));\n",
              "      fill: #FFFFFF;\n",
              "    }\n",
              "  </style>\n",
              "\n",
              "      <script>\n",
              "        const buttonEl =\n",
              "          document.querySelector('#df-fff05a8d-a7ad-4546-a0a2-2d602bcdb715 button.colab-df-convert');\n",
              "        buttonEl.style.display =\n",
              "          google.colab.kernel.accessAllowed ? 'block' : 'none';\n",
              "\n",
              "        async function convertToInteractive(key) {\n",
              "          const element = document.querySelector('#df-fff05a8d-a7ad-4546-a0a2-2d602bcdb715');\n",
              "          const dataTable =\n",
              "            await google.colab.kernel.invokeFunction('convertToInteractive',\n",
              "                                                     [key], {});\n",
              "          if (!dataTable) return;\n",
              "\n",
              "          const docLinkHtml = 'Like what you see? Visit the ' +\n",
              "            '<a target=\"_blank\" href=https://colab.research.google.com/notebooks/data_table.ipynb>data table notebook</a>'\n",
              "            + ' to learn more about interactive tables.';\n",
              "          element.innerHTML = '';\n",
              "          dataTable['output_type'] = 'display_data';\n",
              "          await google.colab.output.renderOutput(dataTable, element);\n",
              "          const docLink = document.createElement('div');\n",
              "          docLink.innerHTML = docLinkHtml;\n",
              "          element.appendChild(docLink);\n",
              "        }\n",
              "      </script>\n",
              "    </div>\n",
              "  </div>\n",
              "  "
            ],
            "text/plain": [
              "       Country  Year  ... Income composition of resources  Schooling\n",
              "0  Afghanistan  2015  ...                           0.479       10.1\n",
              "1  Afghanistan  2014  ...                           0.476       10.0\n",
              "2  Afghanistan  2013  ...                           0.470        9.9\n",
              "3  Afghanistan  2012  ...                           0.463        9.8\n",
              "4  Afghanistan  2011  ...                           0.454        9.5\n",
              "\n",
              "[5 rows x 22 columns]"
            ]
          },
          "metadata": {},
          "execution_count": 3
        }
      ]
    },
    {
      "cell_type": "code",
      "source": [
        "data.shape"
      ],
      "metadata": {
        "colab": {
          "base_uri": "https://localhost:8080/"
        },
        "id": "UL4XpkDpj18t",
        "outputId": "d76138fa-1347-43b0-8ec1-519a42c3dd57"
      },
      "execution_count": null,
      "outputs": [
        {
          "output_type": "execute_result",
          "data": {
            "text/plain": [
              "(2938, 22)"
            ]
          },
          "metadata": {},
          "execution_count": 4
        }
      ]
    },
    {
      "cell_type": "markdown",
      "source": [
        "#Preliminary look and data cleansing"
      ],
      "metadata": {
        "id": "qXh8zk3MZq2H"
      }
    },
    {
      "cell_type": "code",
      "source": [
        "data.columns"
      ],
      "metadata": {
        "colab": {
          "base_uri": "https://localhost:8080/"
        },
        "id": "YywxdPQWimqD",
        "outputId": "c82ad2e6-c8ff-47cc-936f-4e30802e4be8"
      },
      "execution_count": null,
      "outputs": [
        {
          "output_type": "execute_result",
          "data": {
            "text/plain": [
              "Index(['Country', 'Year', 'Status', 'Life expectancy ', 'Adult Mortality',\n",
              "       'infant deaths', 'Alcohol', 'percentage expenditure', 'Hepatitis B',\n",
              "       'Measles ', ' BMI ', 'under-five deaths ', 'Polio', 'Total expenditure',\n",
              "       'Diphtheria ', ' HIV/AIDS', 'GDP', 'Population',\n",
              "       ' thinness  1-19 years', ' thinness 5-9 years',\n",
              "       'Income composition of resources', 'Schooling'],\n",
              "      dtype='object')"
            ]
          },
          "metadata": {},
          "execution_count": 5
        }
      ]
    },
    {
      "cell_type": "code",
      "source": [
        "#filtering data containing year 2008-20015 (7 years)\n",
        "data=data[data['Year']>2007]"
      ],
      "metadata": {
        "id": "Q0WGJ62BaklY"
      },
      "execution_count": null,
      "outputs": []
    },
    {
      "cell_type": "code",
      "source": [
        "data.shape"
      ],
      "metadata": {
        "colab": {
          "base_uri": "https://localhost:8080/"
        },
        "id": "hCabM6BhjmHO",
        "outputId": "bbd20675-e47e-47ca-8e1f-5331c3405d1e"
      },
      "execution_count": null,
      "outputs": [
        {
          "output_type": "execute_result",
          "data": {
            "text/plain": [
              "(1474, 22)"
            ]
          },
          "metadata": {},
          "execution_count": 7
        }
      ]
    },
    {
      "cell_type": "code",
      "source": [
        "#replacing the space in column name\n",
        "data.columns=data.columns.str.replace(' ', '_')\n",
        "data.head()"
      ],
      "metadata": {
        "colab": {
          "base_uri": "https://localhost:8080/",
          "height": 288
        },
        "id": "lh3JX8fzvjpv",
        "outputId": "5c3ee606-18fe-4631-b65a-fb21d8c74a3b"
      },
      "execution_count": null,
      "outputs": [
        {
          "output_type": "execute_result",
          "data": {
            "text/html": [
              "\n",
              "  <div id=\"df-e386d955-2d5a-4fc1-b563-7670274f5d86\">\n",
              "    <div class=\"colab-df-container\">\n",
              "      <div>\n",
              "<style scoped>\n",
              "    .dataframe tbody tr th:only-of-type {\n",
              "        vertical-align: middle;\n",
              "    }\n",
              "\n",
              "    .dataframe tbody tr th {\n",
              "        vertical-align: top;\n",
              "    }\n",
              "\n",
              "    .dataframe thead th {\n",
              "        text-align: right;\n",
              "    }\n",
              "</style>\n",
              "<table border=\"1\" class=\"dataframe\">\n",
              "  <thead>\n",
              "    <tr style=\"text-align: right;\">\n",
              "      <th></th>\n",
              "      <th>Country</th>\n",
              "      <th>Year</th>\n",
              "      <th>Status</th>\n",
              "      <th>Life_expectancy_</th>\n",
              "      <th>Adult_Mortality</th>\n",
              "      <th>infant_deaths</th>\n",
              "      <th>Alcohol</th>\n",
              "      <th>percentage_expenditure</th>\n",
              "      <th>Hepatitis_B</th>\n",
              "      <th>Measles_</th>\n",
              "      <th>_BMI_</th>\n",
              "      <th>under-five_deaths_</th>\n",
              "      <th>Polio</th>\n",
              "      <th>Total_expenditure</th>\n",
              "      <th>Diphtheria_</th>\n",
              "      <th>_HIV/AIDS</th>\n",
              "      <th>GDP</th>\n",
              "      <th>Population</th>\n",
              "      <th>_thinness__1-19_years</th>\n",
              "      <th>_thinness_5-9_years</th>\n",
              "      <th>Income_composition_of_resources</th>\n",
              "      <th>Schooling</th>\n",
              "    </tr>\n",
              "  </thead>\n",
              "  <tbody>\n",
              "    <tr>\n",
              "      <th>0</th>\n",
              "      <td>Afghanistan</td>\n",
              "      <td>2015</td>\n",
              "      <td>Developing</td>\n",
              "      <td>65.0</td>\n",
              "      <td>263.0</td>\n",
              "      <td>62</td>\n",
              "      <td>0.01</td>\n",
              "      <td>71.279624</td>\n",
              "      <td>65.0</td>\n",
              "      <td>1154</td>\n",
              "      <td>19.1</td>\n",
              "      <td>83</td>\n",
              "      <td>6.0</td>\n",
              "      <td>8.16</td>\n",
              "      <td>65.0</td>\n",
              "      <td>0.1</td>\n",
              "      <td>584.259210</td>\n",
              "      <td>33736494.0</td>\n",
              "      <td>17.2</td>\n",
              "      <td>17.3</td>\n",
              "      <td>0.479</td>\n",
              "      <td>10.1</td>\n",
              "    </tr>\n",
              "    <tr>\n",
              "      <th>1</th>\n",
              "      <td>Afghanistan</td>\n",
              "      <td>2014</td>\n",
              "      <td>Developing</td>\n",
              "      <td>59.9</td>\n",
              "      <td>271.0</td>\n",
              "      <td>64</td>\n",
              "      <td>0.01</td>\n",
              "      <td>73.523582</td>\n",
              "      <td>62.0</td>\n",
              "      <td>492</td>\n",
              "      <td>18.6</td>\n",
              "      <td>86</td>\n",
              "      <td>58.0</td>\n",
              "      <td>8.18</td>\n",
              "      <td>62.0</td>\n",
              "      <td>0.1</td>\n",
              "      <td>612.696514</td>\n",
              "      <td>327582.0</td>\n",
              "      <td>17.5</td>\n",
              "      <td>17.5</td>\n",
              "      <td>0.476</td>\n",
              "      <td>10.0</td>\n",
              "    </tr>\n",
              "    <tr>\n",
              "      <th>2</th>\n",
              "      <td>Afghanistan</td>\n",
              "      <td>2013</td>\n",
              "      <td>Developing</td>\n",
              "      <td>59.9</td>\n",
              "      <td>268.0</td>\n",
              "      <td>66</td>\n",
              "      <td>0.01</td>\n",
              "      <td>73.219243</td>\n",
              "      <td>64.0</td>\n",
              "      <td>430</td>\n",
              "      <td>18.1</td>\n",
              "      <td>89</td>\n",
              "      <td>62.0</td>\n",
              "      <td>8.13</td>\n",
              "      <td>64.0</td>\n",
              "      <td>0.1</td>\n",
              "      <td>631.744976</td>\n",
              "      <td>31731688.0</td>\n",
              "      <td>17.7</td>\n",
              "      <td>17.7</td>\n",
              "      <td>0.470</td>\n",
              "      <td>9.9</td>\n",
              "    </tr>\n",
              "    <tr>\n",
              "      <th>3</th>\n",
              "      <td>Afghanistan</td>\n",
              "      <td>2012</td>\n",
              "      <td>Developing</td>\n",
              "      <td>59.5</td>\n",
              "      <td>272.0</td>\n",
              "      <td>69</td>\n",
              "      <td>0.01</td>\n",
              "      <td>78.184215</td>\n",
              "      <td>67.0</td>\n",
              "      <td>2787</td>\n",
              "      <td>17.6</td>\n",
              "      <td>93</td>\n",
              "      <td>67.0</td>\n",
              "      <td>8.52</td>\n",
              "      <td>67.0</td>\n",
              "      <td>0.1</td>\n",
              "      <td>669.959000</td>\n",
              "      <td>3696958.0</td>\n",
              "      <td>17.9</td>\n",
              "      <td>18.0</td>\n",
              "      <td>0.463</td>\n",
              "      <td>9.8</td>\n",
              "    </tr>\n",
              "    <tr>\n",
              "      <th>4</th>\n",
              "      <td>Afghanistan</td>\n",
              "      <td>2011</td>\n",
              "      <td>Developing</td>\n",
              "      <td>59.2</td>\n",
              "      <td>275.0</td>\n",
              "      <td>71</td>\n",
              "      <td>0.01</td>\n",
              "      <td>7.097109</td>\n",
              "      <td>68.0</td>\n",
              "      <td>3013</td>\n",
              "      <td>17.2</td>\n",
              "      <td>97</td>\n",
              "      <td>68.0</td>\n",
              "      <td>7.87</td>\n",
              "      <td>68.0</td>\n",
              "      <td>0.1</td>\n",
              "      <td>63.537231</td>\n",
              "      <td>2978599.0</td>\n",
              "      <td>18.2</td>\n",
              "      <td>18.2</td>\n",
              "      <td>0.454</td>\n",
              "      <td>9.5</td>\n",
              "    </tr>\n",
              "  </tbody>\n",
              "</table>\n",
              "</div>\n",
              "      <button class=\"colab-df-convert\" onclick=\"convertToInteractive('df-e386d955-2d5a-4fc1-b563-7670274f5d86')\"\n",
              "              title=\"Convert this dataframe to an interactive table.\"\n",
              "              style=\"display:none;\">\n",
              "        \n",
              "  <svg xmlns=\"http://www.w3.org/2000/svg\" height=\"24px\"viewBox=\"0 0 24 24\"\n",
              "       width=\"24px\">\n",
              "    <path d=\"M0 0h24v24H0V0z\" fill=\"none\"/>\n",
              "    <path d=\"M18.56 5.44l.94 2.06.94-2.06 2.06-.94-2.06-.94-.94-2.06-.94 2.06-2.06.94zm-11 1L8.5 8.5l.94-2.06 2.06-.94-2.06-.94L8.5 2.5l-.94 2.06-2.06.94zm10 10l.94 2.06.94-2.06 2.06-.94-2.06-.94-.94-2.06-.94 2.06-2.06.94z\"/><path d=\"M17.41 7.96l-1.37-1.37c-.4-.4-.92-.59-1.43-.59-.52 0-1.04.2-1.43.59L10.3 9.45l-7.72 7.72c-.78.78-.78 2.05 0 2.83L4 21.41c.39.39.9.59 1.41.59.51 0 1.02-.2 1.41-.59l7.78-7.78 2.81-2.81c.8-.78.8-2.07 0-2.86zM5.41 20L4 18.59l7.72-7.72 1.47 1.35L5.41 20z\"/>\n",
              "  </svg>\n",
              "      </button>\n",
              "      \n",
              "  <style>\n",
              "    .colab-df-container {\n",
              "      display:flex;\n",
              "      flex-wrap:wrap;\n",
              "      gap: 12px;\n",
              "    }\n",
              "\n",
              "    .colab-df-convert {\n",
              "      background-color: #E8F0FE;\n",
              "      border: none;\n",
              "      border-radius: 50%;\n",
              "      cursor: pointer;\n",
              "      display: none;\n",
              "      fill: #1967D2;\n",
              "      height: 32px;\n",
              "      padding: 0 0 0 0;\n",
              "      width: 32px;\n",
              "    }\n",
              "\n",
              "    .colab-df-convert:hover {\n",
              "      background-color: #E2EBFA;\n",
              "      box-shadow: 0px 1px 2px rgba(60, 64, 67, 0.3), 0px 1px 3px 1px rgba(60, 64, 67, 0.15);\n",
              "      fill: #174EA6;\n",
              "    }\n",
              "\n",
              "    [theme=dark] .colab-df-convert {\n",
              "      background-color: #3B4455;\n",
              "      fill: #D2E3FC;\n",
              "    }\n",
              "\n",
              "    [theme=dark] .colab-df-convert:hover {\n",
              "      background-color: #434B5C;\n",
              "      box-shadow: 0px 1px 3px 1px rgba(0, 0, 0, 0.15);\n",
              "      filter: drop-shadow(0px 1px 2px rgba(0, 0, 0, 0.3));\n",
              "      fill: #FFFFFF;\n",
              "    }\n",
              "  </style>\n",
              "\n",
              "      <script>\n",
              "        const buttonEl =\n",
              "          document.querySelector('#df-e386d955-2d5a-4fc1-b563-7670274f5d86 button.colab-df-convert');\n",
              "        buttonEl.style.display =\n",
              "          google.colab.kernel.accessAllowed ? 'block' : 'none';\n",
              "\n",
              "        async function convertToInteractive(key) {\n",
              "          const element = document.querySelector('#df-e386d955-2d5a-4fc1-b563-7670274f5d86');\n",
              "          const dataTable =\n",
              "            await google.colab.kernel.invokeFunction('convertToInteractive',\n",
              "                                                     [key], {});\n",
              "          if (!dataTable) return;\n",
              "\n",
              "          const docLinkHtml = 'Like what you see? Visit the ' +\n",
              "            '<a target=\"_blank\" href=https://colab.research.google.com/notebooks/data_table.ipynb>data table notebook</a>'\n",
              "            + ' to learn more about interactive tables.';\n",
              "          element.innerHTML = '';\n",
              "          dataTable['output_type'] = 'display_data';\n",
              "          await google.colab.output.renderOutput(dataTable, element);\n",
              "          const docLink = document.createElement('div');\n",
              "          docLink.innerHTML = docLinkHtml;\n",
              "          element.appendChild(docLink);\n",
              "        }\n",
              "      </script>\n",
              "    </div>\n",
              "  </div>\n",
              "  "
            ],
            "text/plain": [
              "       Country  Year  ... Income_composition_of_resources  Schooling\n",
              "0  Afghanistan  2015  ...                           0.479       10.1\n",
              "1  Afghanistan  2014  ...                           0.476       10.0\n",
              "2  Afghanistan  2013  ...                           0.470        9.9\n",
              "3  Afghanistan  2012  ...                           0.463        9.8\n",
              "4  Afghanistan  2011  ...                           0.454        9.5\n",
              "\n",
              "[5 rows x 22 columns]"
            ]
          },
          "metadata": {},
          "execution_count": 8
        }
      ]
    },
    {
      "cell_type": "code",
      "source": [
        "data.info()"
      ],
      "metadata": {
        "colab": {
          "base_uri": "https://localhost:8080/"
        },
        "id": "yHanB0K22CV1",
        "outputId": "d2520cf8-b402-4027-e23a-1e6d6a2aec10"
      },
      "execution_count": null,
      "outputs": [
        {
          "output_type": "stream",
          "name": "stdout",
          "text": [
            "<class 'pandas.core.frame.DataFrame'>\n",
            "Int64Index: 1474 entries, 0 to 2929\n",
            "Data columns (total 22 columns):\n",
            " #   Column                           Non-Null Count  Dtype  \n",
            "---  ------                           --------------  -----  \n",
            " 0   Country                          1474 non-null   object \n",
            " 1   Year                             1474 non-null   int64  \n",
            " 2   Status                           1474 non-null   object \n",
            " 3   Life_expectancy_                 1464 non-null   float64\n",
            " 4   Adult_Mortality                  1464 non-null   float64\n",
            " 5   infant_deaths                    1474 non-null   int64  \n",
            " 6   Alcohol                          1289 non-null   float64\n",
            " 7   percentage_expenditure           1474 non-null   float64\n",
            " 8   Hepatitis_B                      1366 non-null   float64\n",
            " 9   Measles_                         1474 non-null   int64  \n",
            " 10  _BMI_                            1456 non-null   float64\n",
            " 11  under-five_deaths_               1474 non-null   int64  \n",
            " 12  Polio                            1471 non-null   float64\n",
            " 13  Total_expenditure                1275 non-null   float64\n",
            " 14  Diphtheria_                      1471 non-null   float64\n",
            " 15  _HIV/AIDS                        1474 non-null   float64\n",
            " 16  GDP                              1247 non-null   float64\n",
            " 17  Population                       1142 non-null   float64\n",
            " 18  _thinness__1-19_years            1456 non-null   float64\n",
            " 19  _thinness_5-9_years              1456 non-null   float64\n",
            " 20  Income_composition_of_resources  1387 non-null   float64\n",
            " 21  Schooling                        1391 non-null   float64\n",
            "dtypes: float64(16), int64(4), object(2)\n",
            "memory usage: 264.9+ KB\n"
          ]
        }
      ]
    },
    {
      "cell_type": "markdown",
      "source": [
        "Observation:\n",
        "\n",
        "1. Data contains 22 columns and 1474 rows\n",
        "2. some columns have missing values except for `country`, `year`, `status`, `infant death`, `expenditure`, `measles`, `under five deaths`, and `HIV/AIDS`\n",
        "3. All dtypes seem OK (appropriate), given the corresponding column name"
      ],
      "metadata": {
        "id": "8OGS1Yp_2psk"
      }
    },
    {
      "cell_type": "markdown",
      "source": [
        "Missing values handling"
      ],
      "metadata": {
        "id": "4I_FxZJoyzpZ"
      }
    },
    {
      "cell_type": "code",
      "source": [
        "data.isna().sum()"
      ],
      "metadata": {
        "id": "kHsdXsYbyx8f",
        "colab": {
          "base_uri": "https://localhost:8080/"
        },
        "outputId": "95e8b021-720a-42a7-d84a-1af08ee28f37"
      },
      "execution_count": null,
      "outputs": [
        {
          "output_type": "execute_result",
          "data": {
            "text/plain": [
              "Country                              0\n",
              "Year                                 0\n",
              "Status                               0\n",
              "Life_expectancy_                    10\n",
              "Adult_Mortality                     10\n",
              "infant_deaths                        0\n",
              "Alcohol                            185\n",
              "percentage_expenditure               0\n",
              "Hepatitis_B                        108\n",
              "Measles_                             0\n",
              "_BMI_                               18\n",
              "under-five_deaths_                   0\n",
              "Polio                                3\n",
              "Total_expenditure                  199\n",
              "Diphtheria_                          3\n",
              "_HIV/AIDS                            0\n",
              "GDP                                227\n",
              "Population                         332\n",
              "_thinness__1-19_years               18\n",
              "_thinness_5-9_years                 18\n",
              "Income_composition_of_resources     87\n",
              "Schooling                           83\n",
              "dtype: int64"
            ]
          },
          "metadata": {},
          "execution_count": 10
        }
      ]
    },
    {
      "cell_type": "code",
      "source": [
        "#drop missing value\n",
        "data = data.dropna()"
      ],
      "metadata": {
        "id": "3BwZGk4Gy5kW"
      },
      "execution_count": null,
      "outputs": []
    },
    {
      "cell_type": "code",
      "source": [
        "data.isna().sum()"
      ],
      "metadata": {
        "colab": {
          "base_uri": "https://localhost:8080/"
        },
        "id": "_z3mzLj-y6b3",
        "outputId": "908dcae8-47d3-4471-d00b-065d10b181f5"
      },
      "execution_count": null,
      "outputs": [
        {
          "output_type": "execute_result",
          "data": {
            "text/plain": [
              "Country                            0\n",
              "Year                               0\n",
              "Status                             0\n",
              "Life_expectancy_                   0\n",
              "Adult_Mortality                    0\n",
              "infant_deaths                      0\n",
              "Alcohol                            0\n",
              "percentage_expenditure             0\n",
              "Hepatitis_B                        0\n",
              "Measles_                           0\n",
              "_BMI_                              0\n",
              "under-five_deaths_                 0\n",
              "Polio                              0\n",
              "Total_expenditure                  0\n",
              "Diphtheria_                        0\n",
              "_HIV/AIDS                          0\n",
              "GDP                                0\n",
              "Population                         0\n",
              "_thinness__1-19_years              0\n",
              "_thinness_5-9_years                0\n",
              "Income_composition_of_resources    0\n",
              "Schooling                          0\n",
              "dtype: int64"
            ]
          },
          "metadata": {},
          "execution_count": 12
        }
      ]
    },
    {
      "cell_type": "markdown",
      "source": [
        "missing values are succesfully handled"
      ],
      "metadata": {
        "id": "XHuujoYRzB8A"
      }
    },
    {
      "cell_type": "markdown",
      "source": [
        "duplicate values handling"
      ],
      "metadata": {
        "id": "2vKpwvlfzJMo"
      }
    },
    {
      "cell_type": "code",
      "source": [
        "#number of duplicated values\n",
        "data.duplicated().sum()"
      ],
      "metadata": {
        "colab": {
          "base_uri": "https://localhost:8080/"
        },
        "id": "zq-5XgNAzCsq",
        "outputId": "fcf0358b-8ad6-443e-b109-26730dcb88c7"
      },
      "execution_count": null,
      "outputs": [
        {
          "output_type": "execute_result",
          "data": {
            "text/plain": [
              "0"
            ]
          },
          "metadata": {},
          "execution_count": 13
        }
      ]
    },
    {
      "cell_type": "markdown",
      "source": [
        "no duplicates found"
      ],
      "metadata": {
        "id": "yqBi23kizNEd"
      }
    },
    {
      "cell_type": "markdown",
      "source": [
        "#Data understanding"
      ],
      "metadata": {
        "id": "p_sIT9azzg8G"
      }
    },
    {
      "cell_type": "markdown",
      "source": [
        "# Data correlation coefficient table"
      ],
      "metadata": {
        "id": "E9Jwpfl_zjnK"
      }
    },
    {
      "cell_type": "code",
      "source": [
        "#table to show correlation\n",
        "data.corr()"
      ],
      "metadata": {
        "colab": {
          "base_uri": "https://localhost:8080/",
          "height": 758
        },
        "id": "TVSt-80Wk61o",
        "outputId": "37b47d5d-0632-48f1-ec9d-61b1b77c7cdb"
      },
      "execution_count": null,
      "outputs": [
        {
          "output_type": "execute_result",
          "data": {
            "text/html": [
              "\n",
              "  <div id=\"df-2b122515-857f-4ea0-b41c-60788b4fd833\">\n",
              "    <div class=\"colab-df-container\">\n",
              "      <div>\n",
              "<style scoped>\n",
              "    .dataframe tbody tr th:only-of-type {\n",
              "        vertical-align: middle;\n",
              "    }\n",
              "\n",
              "    .dataframe tbody tr th {\n",
              "        vertical-align: top;\n",
              "    }\n",
              "\n",
              "    .dataframe thead th {\n",
              "        text-align: right;\n",
              "    }\n",
              "</style>\n",
              "<table border=\"1\" class=\"dataframe\">\n",
              "  <thead>\n",
              "    <tr style=\"text-align: right;\">\n",
              "      <th></th>\n",
              "      <th>Year</th>\n",
              "      <th>Life_expectancy_</th>\n",
              "      <th>Adult_Mortality</th>\n",
              "      <th>infant_deaths</th>\n",
              "      <th>Alcohol</th>\n",
              "      <th>percentage_expenditure</th>\n",
              "      <th>Hepatitis_B</th>\n",
              "      <th>Measles_</th>\n",
              "      <th>_BMI_</th>\n",
              "      <th>under-five_deaths_</th>\n",
              "      <th>Polio</th>\n",
              "      <th>Total_expenditure</th>\n",
              "      <th>Diphtheria_</th>\n",
              "      <th>_HIV/AIDS</th>\n",
              "      <th>GDP</th>\n",
              "      <th>Population</th>\n",
              "      <th>_thinness__1-19_years</th>\n",
              "      <th>_thinness_5-9_years</th>\n",
              "      <th>Income_composition_of_resources</th>\n",
              "      <th>Schooling</th>\n",
              "    </tr>\n",
              "  </thead>\n",
              "  <tbody>\n",
              "    <tr>\n",
              "      <th>Year</th>\n",
              "      <td>1.000000</td>\n",
              "      <td>0.081238</td>\n",
              "      <td>-0.073349</td>\n",
              "      <td>-0.023741</td>\n",
              "      <td>-0.138749</td>\n",
              "      <td>0.009841</td>\n",
              "      <td>-0.006495</td>\n",
              "      <td>-0.023717</td>\n",
              "      <td>0.065241</td>\n",
              "      <td>-0.027512</td>\n",
              "      <td>-0.018710</td>\n",
              "      <td>0.038792</td>\n",
              "      <td>0.022370</td>\n",
              "      <td>-0.132910</td>\n",
              "      <td>0.031402</td>\n",
              "      <td>0.060016</td>\n",
              "      <td>-0.033957</td>\n",
              "      <td>-0.024785</td>\n",
              "      <td>0.097648</td>\n",
              "      <td>0.101688</td>\n",
              "    </tr>\n",
              "    <tr>\n",
              "      <th>Life_expectancy_</th>\n",
              "      <td>0.081238</td>\n",
              "      <td>1.000000</td>\n",
              "      <td>-0.729641</td>\n",
              "      <td>-0.185787</td>\n",
              "      <td>0.438925</td>\n",
              "      <td>0.435877</td>\n",
              "      <td>0.219747</td>\n",
              "      <td>-0.079583</td>\n",
              "      <td>0.570812</td>\n",
              "      <td>-0.209561</td>\n",
              "      <td>0.360155</td>\n",
              "      <td>0.215195</td>\n",
              "      <td>0.363119</td>\n",
              "      <td>-0.563149</td>\n",
              "      <td>0.470960</td>\n",
              "      <td>-0.020795</td>\n",
              "      <td>-0.463439</td>\n",
              "      <td>-0.447942</td>\n",
              "      <td>0.843709</td>\n",
              "      <td>0.767616</td>\n",
              "    </tr>\n",
              "    <tr>\n",
              "      <th>Adult_Mortality</th>\n",
              "      <td>-0.073349</td>\n",
              "      <td>-0.729641</td>\n",
              "      <td>1.000000</td>\n",
              "      <td>0.080273</td>\n",
              "      <td>-0.212016</td>\n",
              "      <td>-0.269279</td>\n",
              "      <td>-0.167695</td>\n",
              "      <td>0.062220</td>\n",
              "      <td>-0.407725</td>\n",
              "      <td>0.102441</td>\n",
              "      <td>-0.263594</td>\n",
              "      <td>-0.121952</td>\n",
              "      <td>-0.247983</td>\n",
              "      <td>0.539405</td>\n",
              "      <td>-0.291392</td>\n",
              "      <td>0.010283</td>\n",
              "      <td>0.301992</td>\n",
              "      <td>0.290006</td>\n",
              "      <td>-0.577457</td>\n",
              "      <td>-0.506719</td>\n",
              "    </tr>\n",
              "    <tr>\n",
              "      <th>infant_deaths</th>\n",
              "      <td>-0.023741</td>\n",
              "      <td>-0.185787</td>\n",
              "      <td>0.080273</td>\n",
              "      <td>1.000000</td>\n",
              "      <td>-0.080239</td>\n",
              "      <td>-0.096373</td>\n",
              "      <td>-0.198532</td>\n",
              "      <td>0.496758</td>\n",
              "      <td>-0.227338</td>\n",
              "      <td>0.996464</td>\n",
              "      <td>-0.158486</td>\n",
              "      <td>-0.154085</td>\n",
              "      <td>-0.168201</td>\n",
              "      <td>0.028336</td>\n",
              "      <td>-0.101894</td>\n",
              "      <td>0.449116</td>\n",
              "      <td>0.476710</td>\n",
              "      <td>0.465137</td>\n",
              "      <td>-0.175621</td>\n",
              "      <td>-0.212232</td>\n",
              "    </tr>\n",
              "    <tr>\n",
              "      <th>Alcohol</th>\n",
              "      <td>-0.138749</td>\n",
              "      <td>0.438925</td>\n",
              "      <td>-0.212016</td>\n",
              "      <td>-0.080239</td>\n",
              "      <td>1.000000</td>\n",
              "      <td>0.411381</td>\n",
              "      <td>0.103291</td>\n",
              "      <td>-0.017917</td>\n",
              "      <td>0.345125</td>\n",
              "      <td>-0.075896</td>\n",
              "      <td>0.234825</td>\n",
              "      <td>0.243955</td>\n",
              "      <td>0.209540</td>\n",
              "      <td>-0.065862</td>\n",
              "      <td>0.439085</td>\n",
              "      <td>-0.021949</td>\n",
              "      <td>-0.405604</td>\n",
              "      <td>-0.399893</td>\n",
              "      <td>0.592926</td>\n",
              "      <td>0.601499</td>\n",
              "    </tr>\n",
              "    <tr>\n",
              "      <th>percentage_expenditure</th>\n",
              "      <td>0.009841</td>\n",
              "      <td>0.435877</td>\n",
              "      <td>-0.269279</td>\n",
              "      <td>-0.096373</td>\n",
              "      <td>0.411381</td>\n",
              "      <td>1.000000</td>\n",
              "      <td>0.025276</td>\n",
              "      <td>-0.062008</td>\n",
              "      <td>0.259089</td>\n",
              "      <td>-0.098107</td>\n",
              "      <td>0.140300</td>\n",
              "      <td>0.230769</td>\n",
              "      <td>0.139505</td>\n",
              "      <td>-0.114962</td>\n",
              "      <td>0.952931</td>\n",
              "      <td>-0.027522</td>\n",
              "      <td>-0.267833</td>\n",
              "      <td>-0.267875</td>\n",
              "      <td>0.448289</td>\n",
              "      <td>0.437476</td>\n",
              "    </tr>\n",
              "    <tr>\n",
              "      <th>Hepatitis_B</th>\n",
              "      <td>-0.006495</td>\n",
              "      <td>0.219747</td>\n",
              "      <td>-0.167695</td>\n",
              "      <td>-0.198532</td>\n",
              "      <td>0.103291</td>\n",
              "      <td>0.025276</td>\n",
              "      <td>1.000000</td>\n",
              "      <td>-0.051123</td>\n",
              "      <td>0.122560</td>\n",
              "      <td>-0.211547</td>\n",
              "      <td>0.549424</td>\n",
              "      <td>0.115344</td>\n",
              "      <td>0.761954</td>\n",
              "      <td>-0.126546</td>\n",
              "      <td>0.041851</td>\n",
              "      <td>-0.037603</td>\n",
              "      <td>-0.129486</td>\n",
              "      <td>-0.120546</td>\n",
              "      <td>0.197286</td>\n",
              "      <td>0.231904</td>\n",
              "    </tr>\n",
              "    <tr>\n",
              "      <th>Measles_</th>\n",
              "      <td>-0.023717</td>\n",
              "      <td>-0.079583</td>\n",
              "      <td>0.062220</td>\n",
              "      <td>0.496758</td>\n",
              "      <td>-0.017917</td>\n",
              "      <td>-0.062008</td>\n",
              "      <td>-0.051123</td>\n",
              "      <td>1.000000</td>\n",
              "      <td>-0.135872</td>\n",
              "      <td>0.482580</td>\n",
              "      <td>-0.033722</td>\n",
              "      <td>-0.109741</td>\n",
              "      <td>-0.040219</td>\n",
              "      <td>0.046060</td>\n",
              "      <td>-0.056292</td>\n",
              "      <td>0.340655</td>\n",
              "      <td>0.192387</td>\n",
              "      <td>0.194476</td>\n",
              "      <td>-0.067250</td>\n",
              "      <td>-0.082953</td>\n",
              "    </tr>\n",
              "    <tr>\n",
              "      <th>_BMI_</th>\n",
              "      <td>0.065241</td>\n",
              "      <td>0.570812</td>\n",
              "      <td>-0.407725</td>\n",
              "      <td>-0.227338</td>\n",
              "      <td>0.345125</td>\n",
              "      <td>0.259089</td>\n",
              "      <td>0.122560</td>\n",
              "      <td>-0.135872</td>\n",
              "      <td>1.000000</td>\n",
              "      <td>-0.234531</td>\n",
              "      <td>0.198151</td>\n",
              "      <td>0.183790</td>\n",
              "      <td>0.187584</td>\n",
              "      <td>-0.256448</td>\n",
              "      <td>0.283511</td>\n",
              "      <td>-0.071519</td>\n",
              "      <td>-0.543892</td>\n",
              "      <td>-0.549926</td>\n",
              "      <td>0.591689</td>\n",
              "      <td>0.557777</td>\n",
              "    </tr>\n",
              "    <tr>\n",
              "      <th>under-five_deaths_</th>\n",
              "      <td>-0.027512</td>\n",
              "      <td>-0.209561</td>\n",
              "      <td>0.102441</td>\n",
              "      <td>0.996464</td>\n",
              "      <td>-0.075896</td>\n",
              "      <td>-0.098107</td>\n",
              "      <td>-0.211547</td>\n",
              "      <td>0.482580</td>\n",
              "      <td>-0.234531</td>\n",
              "      <td>1.000000</td>\n",
              "      <td>-0.175296</td>\n",
              "      <td>-0.155092</td>\n",
              "      <td>-0.186600</td>\n",
              "      <td>0.043213</td>\n",
              "      <td>-0.104764</td>\n",
              "      <td>0.427089</td>\n",
              "      <td>0.473202</td>\n",
              "      <td>0.460400</td>\n",
              "      <td>-0.192547</td>\n",
              "      <td>-0.226692</td>\n",
              "    </tr>\n",
              "    <tr>\n",
              "      <th>Polio</th>\n",
              "      <td>-0.018710</td>\n",
              "      <td>0.360155</td>\n",
              "      <td>-0.263594</td>\n",
              "      <td>-0.158486</td>\n",
              "      <td>0.234825</td>\n",
              "      <td>0.140300</td>\n",
              "      <td>0.549424</td>\n",
              "      <td>-0.033722</td>\n",
              "      <td>0.198151</td>\n",
              "      <td>-0.175296</td>\n",
              "      <td>1.000000</td>\n",
              "      <td>0.167232</td>\n",
              "      <td>0.656775</td>\n",
              "      <td>-0.136176</td>\n",
              "      <td>0.170465</td>\n",
              "      <td>-0.034755</td>\n",
              "      <td>-0.170567</td>\n",
              "      <td>-0.171538</td>\n",
              "      <td>0.364105</td>\n",
              "      <td>0.400855</td>\n",
              "    </tr>\n",
              "    <tr>\n",
              "      <th>Total_expenditure</th>\n",
              "      <td>0.038792</td>\n",
              "      <td>0.215195</td>\n",
              "      <td>-0.121952</td>\n",
              "      <td>-0.154085</td>\n",
              "      <td>0.243955</td>\n",
              "      <td>0.230769</td>\n",
              "      <td>0.115344</td>\n",
              "      <td>-0.109741</td>\n",
              "      <td>0.183790</td>\n",
              "      <td>-0.155092</td>\n",
              "      <td>0.167232</td>\n",
              "      <td>1.000000</td>\n",
              "      <td>0.161887</td>\n",
              "      <td>0.027981</td>\n",
              "      <td>0.223337</td>\n",
              "      <td>-0.071597</td>\n",
              "      <td>-0.210293</td>\n",
              "      <td>-0.218659</td>\n",
              "      <td>0.207071</td>\n",
              "      <td>0.248518</td>\n",
              "    </tr>\n",
              "    <tr>\n",
              "      <th>Diphtheria_</th>\n",
              "      <td>0.022370</td>\n",
              "      <td>0.363119</td>\n",
              "      <td>-0.247983</td>\n",
              "      <td>-0.168201</td>\n",
              "      <td>0.209540</td>\n",
              "      <td>0.139505</td>\n",
              "      <td>0.761954</td>\n",
              "      <td>-0.040219</td>\n",
              "      <td>0.187584</td>\n",
              "      <td>-0.186600</td>\n",
              "      <td>0.656775</td>\n",
              "      <td>0.161887</td>\n",
              "      <td>1.000000</td>\n",
              "      <td>-0.115887</td>\n",
              "      <td>0.164717</td>\n",
              "      <td>-0.029054</td>\n",
              "      <td>-0.200162</td>\n",
              "      <td>-0.189071</td>\n",
              "      <td>0.354167</td>\n",
              "      <td>0.390046</td>\n",
              "    </tr>\n",
              "    <tr>\n",
              "      <th>_HIV/AIDS</th>\n",
              "      <td>-0.132910</td>\n",
              "      <td>-0.563149</td>\n",
              "      <td>0.539405</td>\n",
              "      <td>0.028336</td>\n",
              "      <td>-0.065862</td>\n",
              "      <td>-0.114962</td>\n",
              "      <td>-0.126546</td>\n",
              "      <td>0.046060</td>\n",
              "      <td>-0.256448</td>\n",
              "      <td>0.043213</td>\n",
              "      <td>-0.136176</td>\n",
              "      <td>0.027981</td>\n",
              "      <td>-0.115887</td>\n",
              "      <td>1.000000</td>\n",
              "      <td>-0.136670</td>\n",
              "      <td>-0.028496</td>\n",
              "      <td>0.155975</td>\n",
              "      <td>0.135709</td>\n",
              "      <td>-0.355112</td>\n",
              "      <td>-0.265511</td>\n",
              "    </tr>\n",
              "    <tr>\n",
              "      <th>GDP</th>\n",
              "      <td>0.031402</td>\n",
              "      <td>0.470960</td>\n",
              "      <td>-0.291392</td>\n",
              "      <td>-0.101894</td>\n",
              "      <td>0.439085</td>\n",
              "      <td>0.952931</td>\n",
              "      <td>0.041851</td>\n",
              "      <td>-0.056292</td>\n",
              "      <td>0.283511</td>\n",
              "      <td>-0.104764</td>\n",
              "      <td>0.170465</td>\n",
              "      <td>0.223337</td>\n",
              "      <td>0.164717</td>\n",
              "      <td>-0.136670</td>\n",
              "      <td>1.000000</td>\n",
              "      <td>-0.026213</td>\n",
              "      <td>-0.297191</td>\n",
              "      <td>-0.296973</td>\n",
              "      <td>0.505393</td>\n",
              "      <td>0.490117</td>\n",
              "    </tr>\n",
              "    <tr>\n",
              "      <th>Population</th>\n",
              "      <td>0.060016</td>\n",
              "      <td>-0.020795</td>\n",
              "      <td>0.010283</td>\n",
              "      <td>0.449116</td>\n",
              "      <td>-0.021949</td>\n",
              "      <td>-0.027522</td>\n",
              "      <td>-0.037603</td>\n",
              "      <td>0.340655</td>\n",
              "      <td>-0.071519</td>\n",
              "      <td>0.427089</td>\n",
              "      <td>-0.034755</td>\n",
              "      <td>-0.071597</td>\n",
              "      <td>-0.029054</td>\n",
              "      <td>-0.028496</td>\n",
              "      <td>-0.026213</td>\n",
              "      <td>1.000000</td>\n",
              "      <td>0.223904</td>\n",
              "      <td>0.198565</td>\n",
              "      <td>-0.018859</td>\n",
              "      <td>-0.039397</td>\n",
              "    </tr>\n",
              "    <tr>\n",
              "      <th>_thinness__1-19_years</th>\n",
              "      <td>-0.033957</td>\n",
              "      <td>-0.463439</td>\n",
              "      <td>0.301992</td>\n",
              "      <td>0.476710</td>\n",
              "      <td>-0.405604</td>\n",
              "      <td>-0.267833</td>\n",
              "      <td>-0.129486</td>\n",
              "      <td>0.192387</td>\n",
              "      <td>-0.543892</td>\n",
              "      <td>0.473202</td>\n",
              "      <td>-0.170567</td>\n",
              "      <td>-0.210293</td>\n",
              "      <td>-0.200162</td>\n",
              "      <td>0.155975</td>\n",
              "      <td>-0.297191</td>\n",
              "      <td>0.223904</td>\n",
              "      <td>1.000000</td>\n",
              "      <td>0.935456</td>\n",
              "      <td>-0.516298</td>\n",
              "      <td>-0.486179</td>\n",
              "    </tr>\n",
              "    <tr>\n",
              "      <th>_thinness_5-9_years</th>\n",
              "      <td>-0.024785</td>\n",
              "      <td>-0.447942</td>\n",
              "      <td>0.290006</td>\n",
              "      <td>0.465137</td>\n",
              "      <td>-0.399893</td>\n",
              "      <td>-0.267875</td>\n",
              "      <td>-0.120546</td>\n",
              "      <td>0.194476</td>\n",
              "      <td>-0.549926</td>\n",
              "      <td>0.460400</td>\n",
              "      <td>-0.171538</td>\n",
              "      <td>-0.218659</td>\n",
              "      <td>-0.189071</td>\n",
              "      <td>0.135709</td>\n",
              "      <td>-0.296973</td>\n",
              "      <td>0.198565</td>\n",
              "      <td>0.935456</td>\n",
              "      <td>1.000000</td>\n",
              "      <td>-0.497053</td>\n",
              "      <td>-0.467132</td>\n",
              "    </tr>\n",
              "    <tr>\n",
              "      <th>Income_composition_of_resources</th>\n",
              "      <td>0.097648</td>\n",
              "      <td>0.843709</td>\n",
              "      <td>-0.577457</td>\n",
              "      <td>-0.175621</td>\n",
              "      <td>0.592926</td>\n",
              "      <td>0.448289</td>\n",
              "      <td>0.197286</td>\n",
              "      <td>-0.067250</td>\n",
              "      <td>0.591689</td>\n",
              "      <td>-0.192547</td>\n",
              "      <td>0.364105</td>\n",
              "      <td>0.207071</td>\n",
              "      <td>0.354167</td>\n",
              "      <td>-0.355112</td>\n",
              "      <td>0.505393</td>\n",
              "      <td>-0.018859</td>\n",
              "      <td>-0.516298</td>\n",
              "      <td>-0.497053</td>\n",
              "      <td>1.000000</td>\n",
              "      <td>0.884038</td>\n",
              "    </tr>\n",
              "    <tr>\n",
              "      <th>Schooling</th>\n",
              "      <td>0.101688</td>\n",
              "      <td>0.767616</td>\n",
              "      <td>-0.506719</td>\n",
              "      <td>-0.212232</td>\n",
              "      <td>0.601499</td>\n",
              "      <td>0.437476</td>\n",
              "      <td>0.231904</td>\n",
              "      <td>-0.082953</td>\n",
              "      <td>0.557777</td>\n",
              "      <td>-0.226692</td>\n",
              "      <td>0.400855</td>\n",
              "      <td>0.248518</td>\n",
              "      <td>0.390046</td>\n",
              "      <td>-0.265511</td>\n",
              "      <td>0.490117</td>\n",
              "      <td>-0.039397</td>\n",
              "      <td>-0.486179</td>\n",
              "      <td>-0.467132</td>\n",
              "      <td>0.884038</td>\n",
              "      <td>1.000000</td>\n",
              "    </tr>\n",
              "  </tbody>\n",
              "</table>\n",
              "</div>\n",
              "      <button class=\"colab-df-convert\" onclick=\"convertToInteractive('df-2b122515-857f-4ea0-b41c-60788b4fd833')\"\n",
              "              title=\"Convert this dataframe to an interactive table.\"\n",
              "              style=\"display:none;\">\n",
              "        \n",
              "  <svg xmlns=\"http://www.w3.org/2000/svg\" height=\"24px\"viewBox=\"0 0 24 24\"\n",
              "       width=\"24px\">\n",
              "    <path d=\"M0 0h24v24H0V0z\" fill=\"none\"/>\n",
              "    <path d=\"M18.56 5.44l.94 2.06.94-2.06 2.06-.94-2.06-.94-.94-2.06-.94 2.06-2.06.94zm-11 1L8.5 8.5l.94-2.06 2.06-.94-2.06-.94L8.5 2.5l-.94 2.06-2.06.94zm10 10l.94 2.06.94-2.06 2.06-.94-2.06-.94-.94-2.06-.94 2.06-2.06.94z\"/><path d=\"M17.41 7.96l-1.37-1.37c-.4-.4-.92-.59-1.43-.59-.52 0-1.04.2-1.43.59L10.3 9.45l-7.72 7.72c-.78.78-.78 2.05 0 2.83L4 21.41c.39.39.9.59 1.41.59.51 0 1.02-.2 1.41-.59l7.78-7.78 2.81-2.81c.8-.78.8-2.07 0-2.86zM5.41 20L4 18.59l7.72-7.72 1.47 1.35L5.41 20z\"/>\n",
              "  </svg>\n",
              "      </button>\n",
              "      \n",
              "  <style>\n",
              "    .colab-df-container {\n",
              "      display:flex;\n",
              "      flex-wrap:wrap;\n",
              "      gap: 12px;\n",
              "    }\n",
              "\n",
              "    .colab-df-convert {\n",
              "      background-color: #E8F0FE;\n",
              "      border: none;\n",
              "      border-radius: 50%;\n",
              "      cursor: pointer;\n",
              "      display: none;\n",
              "      fill: #1967D2;\n",
              "      height: 32px;\n",
              "      padding: 0 0 0 0;\n",
              "      width: 32px;\n",
              "    }\n",
              "\n",
              "    .colab-df-convert:hover {\n",
              "      background-color: #E2EBFA;\n",
              "      box-shadow: 0px 1px 2px rgba(60, 64, 67, 0.3), 0px 1px 3px 1px rgba(60, 64, 67, 0.15);\n",
              "      fill: #174EA6;\n",
              "    }\n",
              "\n",
              "    [theme=dark] .colab-df-convert {\n",
              "      background-color: #3B4455;\n",
              "      fill: #D2E3FC;\n",
              "    }\n",
              "\n",
              "    [theme=dark] .colab-df-convert:hover {\n",
              "      background-color: #434B5C;\n",
              "      box-shadow: 0px 1px 3px 1px rgba(0, 0, 0, 0.15);\n",
              "      filter: drop-shadow(0px 1px 2px rgba(0, 0, 0, 0.3));\n",
              "      fill: #FFFFFF;\n",
              "    }\n",
              "  </style>\n",
              "\n",
              "      <script>\n",
              "        const buttonEl =\n",
              "          document.querySelector('#df-2b122515-857f-4ea0-b41c-60788b4fd833 button.colab-df-convert');\n",
              "        buttonEl.style.display =\n",
              "          google.colab.kernel.accessAllowed ? 'block' : 'none';\n",
              "\n",
              "        async function convertToInteractive(key) {\n",
              "          const element = document.querySelector('#df-2b122515-857f-4ea0-b41c-60788b4fd833');\n",
              "          const dataTable =\n",
              "            await google.colab.kernel.invokeFunction('convertToInteractive',\n",
              "                                                     [key], {});\n",
              "          if (!dataTable) return;\n",
              "\n",
              "          const docLinkHtml = 'Like what you see? Visit the ' +\n",
              "            '<a target=\"_blank\" href=https://colab.research.google.com/notebooks/data_table.ipynb>data table notebook</a>'\n",
              "            + ' to learn more about interactive tables.';\n",
              "          element.innerHTML = '';\n",
              "          dataTable['output_type'] = 'display_data';\n",
              "          await google.colab.output.renderOutput(dataTable, element);\n",
              "          const docLink = document.createElement('div');\n",
              "          docLink.innerHTML = docLinkHtml;\n",
              "          element.appendChild(docLink);\n",
              "        }\n",
              "      </script>\n",
              "    </div>\n",
              "  </div>\n",
              "  "
            ],
            "text/plain": [
              "                                     Year  ...  Schooling\n",
              "Year                             1.000000  ...   0.101688\n",
              "Life_expectancy_                 0.081238  ...   0.767616\n",
              "Adult_Mortality                 -0.073349  ...  -0.506719\n",
              "infant_deaths                   -0.023741  ...  -0.212232\n",
              "Alcohol                         -0.138749  ...   0.601499\n",
              "percentage_expenditure           0.009841  ...   0.437476\n",
              "Hepatitis_B                     -0.006495  ...   0.231904\n",
              "Measles_                        -0.023717  ...  -0.082953\n",
              "_BMI_                            0.065241  ...   0.557777\n",
              "under-five_deaths_              -0.027512  ...  -0.226692\n",
              "Polio                           -0.018710  ...   0.400855\n",
              "Total_expenditure                0.038792  ...   0.248518\n",
              "Diphtheria_                      0.022370  ...   0.390046\n",
              "_HIV/AIDS                       -0.132910  ...  -0.265511\n",
              "GDP                              0.031402  ...   0.490117\n",
              "Population                       0.060016  ...  -0.039397\n",
              "_thinness__1-19_years           -0.033957  ...  -0.486179\n",
              "_thinness_5-9_years             -0.024785  ...  -0.467132\n",
              "Income_composition_of_resources  0.097648  ...   0.884038\n",
              "Schooling                        0.101688  ...   1.000000\n",
              "\n",
              "[20 rows x 20 columns]"
            ]
          },
          "metadata": {},
          "execution_count": 14
        }
      ]
    },
    {
      "cell_type": "code",
      "source": [
        "#creating new data containing variables that have moderate to strong correlation with life expectancy \n",
        "modified_data = data.drop(columns=['Year','infant_deaths','percentage_expenditure','Hepatitis_B','Measles_','under-five_deaths_','Total_expenditure','Total_expenditure','Population','Polio','Alcohol','Diphtheria_'])"
      ],
      "metadata": {
        "id": "y8SAqc6Xl7f9"
      },
      "execution_count": null,
      "outputs": []
    },
    {
      "cell_type": "code",
      "source": [
        "#modify column names\n",
        "modified_data = modified_data.rename(columns = {'_thinness__1-19_years' : 'underweight 10-19 y.o','_thinness_5-9_years': 'underweight 5-9 y.o'})"
      ],
      "metadata": {
        "id": "S0723K6Q0hCz"
      },
      "execution_count": null,
      "outputs": []
    },
    {
      "cell_type": "markdown",
      "source": [
        "#Modified data"
      ],
      "metadata": {
        "id": "slIyhHKQzlWD"
      }
    },
    {
      "cell_type": "code",
      "source": [
        "modified_data.head()"
      ],
      "metadata": {
        "colab": {
          "base_uri": "https://localhost:8080/",
          "height": 268
        },
        "id": "bY2QaKJCyh6R",
        "outputId": "f81d3002-85a3-48e7-d2df-eb42b1258ce9"
      },
      "execution_count": null,
      "outputs": [
        {
          "output_type": "execute_result",
          "data": {
            "text/html": [
              "\n",
              "  <div id=\"df-4ce03789-b31e-4742-8c48-aa77a7aa80c5\">\n",
              "    <div class=\"colab-df-container\">\n",
              "      <div>\n",
              "<style scoped>\n",
              "    .dataframe tbody tr th:only-of-type {\n",
              "        vertical-align: middle;\n",
              "    }\n",
              "\n",
              "    .dataframe tbody tr th {\n",
              "        vertical-align: top;\n",
              "    }\n",
              "\n",
              "    .dataframe thead th {\n",
              "        text-align: right;\n",
              "    }\n",
              "</style>\n",
              "<table border=\"1\" class=\"dataframe\">\n",
              "  <thead>\n",
              "    <tr style=\"text-align: right;\">\n",
              "      <th></th>\n",
              "      <th>Country</th>\n",
              "      <th>Status</th>\n",
              "      <th>Life_expectancy_</th>\n",
              "      <th>Adult_Mortality</th>\n",
              "      <th>_BMI_</th>\n",
              "      <th>_HIV/AIDS</th>\n",
              "      <th>GDP</th>\n",
              "      <th>underweight 10-19 y.o</th>\n",
              "      <th>underweight 5-9 y.o</th>\n",
              "      <th>Income_composition_of_resources</th>\n",
              "      <th>Schooling</th>\n",
              "    </tr>\n",
              "  </thead>\n",
              "  <tbody>\n",
              "    <tr>\n",
              "      <th>0</th>\n",
              "      <td>Afghanistan</td>\n",
              "      <td>Developing</td>\n",
              "      <td>65.0</td>\n",
              "      <td>263.0</td>\n",
              "      <td>19.1</td>\n",
              "      <td>0.1</td>\n",
              "      <td>584.259210</td>\n",
              "      <td>17.2</td>\n",
              "      <td>17.3</td>\n",
              "      <td>0.479</td>\n",
              "      <td>10.1</td>\n",
              "    </tr>\n",
              "    <tr>\n",
              "      <th>1</th>\n",
              "      <td>Afghanistan</td>\n",
              "      <td>Developing</td>\n",
              "      <td>59.9</td>\n",
              "      <td>271.0</td>\n",
              "      <td>18.6</td>\n",
              "      <td>0.1</td>\n",
              "      <td>612.696514</td>\n",
              "      <td>17.5</td>\n",
              "      <td>17.5</td>\n",
              "      <td>0.476</td>\n",
              "      <td>10.0</td>\n",
              "    </tr>\n",
              "    <tr>\n",
              "      <th>2</th>\n",
              "      <td>Afghanistan</td>\n",
              "      <td>Developing</td>\n",
              "      <td>59.9</td>\n",
              "      <td>268.0</td>\n",
              "      <td>18.1</td>\n",
              "      <td>0.1</td>\n",
              "      <td>631.744976</td>\n",
              "      <td>17.7</td>\n",
              "      <td>17.7</td>\n",
              "      <td>0.470</td>\n",
              "      <td>9.9</td>\n",
              "    </tr>\n",
              "    <tr>\n",
              "      <th>3</th>\n",
              "      <td>Afghanistan</td>\n",
              "      <td>Developing</td>\n",
              "      <td>59.5</td>\n",
              "      <td>272.0</td>\n",
              "      <td>17.6</td>\n",
              "      <td>0.1</td>\n",
              "      <td>669.959000</td>\n",
              "      <td>17.9</td>\n",
              "      <td>18.0</td>\n",
              "      <td>0.463</td>\n",
              "      <td>9.8</td>\n",
              "    </tr>\n",
              "    <tr>\n",
              "      <th>4</th>\n",
              "      <td>Afghanistan</td>\n",
              "      <td>Developing</td>\n",
              "      <td>59.2</td>\n",
              "      <td>275.0</td>\n",
              "      <td>17.2</td>\n",
              "      <td>0.1</td>\n",
              "      <td>63.537231</td>\n",
              "      <td>18.2</td>\n",
              "      <td>18.2</td>\n",
              "      <td>0.454</td>\n",
              "      <td>9.5</td>\n",
              "    </tr>\n",
              "  </tbody>\n",
              "</table>\n",
              "</div>\n",
              "      <button class=\"colab-df-convert\" onclick=\"convertToInteractive('df-4ce03789-b31e-4742-8c48-aa77a7aa80c5')\"\n",
              "              title=\"Convert this dataframe to an interactive table.\"\n",
              "              style=\"display:none;\">\n",
              "        \n",
              "  <svg xmlns=\"http://www.w3.org/2000/svg\" height=\"24px\"viewBox=\"0 0 24 24\"\n",
              "       width=\"24px\">\n",
              "    <path d=\"M0 0h24v24H0V0z\" fill=\"none\"/>\n",
              "    <path d=\"M18.56 5.44l.94 2.06.94-2.06 2.06-.94-2.06-.94-.94-2.06-.94 2.06-2.06.94zm-11 1L8.5 8.5l.94-2.06 2.06-.94-2.06-.94L8.5 2.5l-.94 2.06-2.06.94zm10 10l.94 2.06.94-2.06 2.06-.94-2.06-.94-.94-2.06-.94 2.06-2.06.94z\"/><path d=\"M17.41 7.96l-1.37-1.37c-.4-.4-.92-.59-1.43-.59-.52 0-1.04.2-1.43.59L10.3 9.45l-7.72 7.72c-.78.78-.78 2.05 0 2.83L4 21.41c.39.39.9.59 1.41.59.51 0 1.02-.2 1.41-.59l7.78-7.78 2.81-2.81c.8-.78.8-2.07 0-2.86zM5.41 20L4 18.59l7.72-7.72 1.47 1.35L5.41 20z\"/>\n",
              "  </svg>\n",
              "      </button>\n",
              "      \n",
              "  <style>\n",
              "    .colab-df-container {\n",
              "      display:flex;\n",
              "      flex-wrap:wrap;\n",
              "      gap: 12px;\n",
              "    }\n",
              "\n",
              "    .colab-df-convert {\n",
              "      background-color: #E8F0FE;\n",
              "      border: none;\n",
              "      border-radius: 50%;\n",
              "      cursor: pointer;\n",
              "      display: none;\n",
              "      fill: #1967D2;\n",
              "      height: 32px;\n",
              "      padding: 0 0 0 0;\n",
              "      width: 32px;\n",
              "    }\n",
              "\n",
              "    .colab-df-convert:hover {\n",
              "      background-color: #E2EBFA;\n",
              "      box-shadow: 0px 1px 2px rgba(60, 64, 67, 0.3), 0px 1px 3px 1px rgba(60, 64, 67, 0.15);\n",
              "      fill: #174EA6;\n",
              "    }\n",
              "\n",
              "    [theme=dark] .colab-df-convert {\n",
              "      background-color: #3B4455;\n",
              "      fill: #D2E3FC;\n",
              "    }\n",
              "\n",
              "    [theme=dark] .colab-df-convert:hover {\n",
              "      background-color: #434B5C;\n",
              "      box-shadow: 0px 1px 3px 1px rgba(0, 0, 0, 0.15);\n",
              "      filter: drop-shadow(0px 1px 2px rgba(0, 0, 0, 0.3));\n",
              "      fill: #FFFFFF;\n",
              "    }\n",
              "  </style>\n",
              "\n",
              "      <script>\n",
              "        const buttonEl =\n",
              "          document.querySelector('#df-4ce03789-b31e-4742-8c48-aa77a7aa80c5 button.colab-df-convert');\n",
              "        buttonEl.style.display =\n",
              "          google.colab.kernel.accessAllowed ? 'block' : 'none';\n",
              "\n",
              "        async function convertToInteractive(key) {\n",
              "          const element = document.querySelector('#df-4ce03789-b31e-4742-8c48-aa77a7aa80c5');\n",
              "          const dataTable =\n",
              "            await google.colab.kernel.invokeFunction('convertToInteractive',\n",
              "                                                     [key], {});\n",
              "          if (!dataTable) return;\n",
              "\n",
              "          const docLinkHtml = 'Like what you see? Visit the ' +\n",
              "            '<a target=\"_blank\" href=https://colab.research.google.com/notebooks/data_table.ipynb>data table notebook</a>'\n",
              "            + ' to learn more about interactive tables.';\n",
              "          element.innerHTML = '';\n",
              "          dataTable['output_type'] = 'display_data';\n",
              "          await google.colab.output.renderOutput(dataTable, element);\n",
              "          const docLink = document.createElement('div');\n",
              "          docLink.innerHTML = docLinkHtml;\n",
              "          element.appendChild(docLink);\n",
              "        }\n",
              "      </script>\n",
              "    </div>\n",
              "  </div>\n",
              "  "
            ],
            "text/plain": [
              "       Country      Status  ...  Income_composition_of_resources  Schooling\n",
              "0  Afghanistan  Developing  ...                            0.479       10.1\n",
              "1  Afghanistan  Developing  ...                            0.476       10.0\n",
              "2  Afghanistan  Developing  ...                            0.470        9.9\n",
              "3  Afghanistan  Developing  ...                            0.463        9.8\n",
              "4  Afghanistan  Developing  ...                            0.454        9.5\n",
              "\n",
              "[5 rows x 11 columns]"
            ]
          },
          "metadata": {},
          "execution_count": 17
        }
      ]
    },
    {
      "cell_type": "markdown",
      "source": [
        "#Boxplot to detect outliers"
      ],
      "metadata": {
        "id": "LbeawvYJfcQB"
      }
    },
    {
      "cell_type": "code",
      "source": [
        "features = numericals\n",
        "for i in range(0, len(features)):\n",
        "    plt.subplot(1, len(features), i+1)\n",
        "    sns.boxplot(y=modified_data[features[i]], color='skyblue')\n",
        "    plt.tight_layout()"
      ],
      "metadata": {
        "colab": {
          "base_uri": "https://localhost:8080/",
          "height": 597
        },
        "id": "hPEEa3BHRW4n",
        "outputId": "6b29f54f-783a-4628-fea5-2c0d687642ec"
      },
      "execution_count": null,
      "outputs": [
        {
          "output_type": "stream",
          "name": "stderr",
          "text": [
            "/usr/local/lib/python3.7/dist-packages/ipykernel_launcher.py:5: UserWarning: Tight layout not applied. tight_layout cannot make axes width small enough to accommodate all axes decorations\n",
            "  \"\"\"\n",
            "/usr/local/lib/python3.7/dist-packages/ipykernel_launcher.py:5: UserWarning: Tight layout not applied. tight_layout cannot make axes width small enough to accommodate all axes decorations\n",
            "  \"\"\"\n",
            "/usr/local/lib/python3.7/dist-packages/ipykernel_launcher.py:5: UserWarning: Tight layout not applied. tight_layout cannot make axes width small enough to accommodate all axes decorations\n",
            "  \"\"\"\n",
            "/usr/local/lib/python3.7/dist-packages/ipykernel_launcher.py:5: UserWarning: Tight layout not applied. tight_layout cannot make axes width small enough to accommodate all axes decorations\n",
            "  \"\"\"\n",
            "/usr/local/lib/python3.7/dist-packages/ipykernel_launcher.py:5: UserWarning: Tight layout not applied. tight_layout cannot make axes width small enough to accommodate all axes decorations\n",
            "  \"\"\"\n",
            "/usr/local/lib/python3.7/dist-packages/ipykernel_launcher.py:5: UserWarning: Tight layout not applied. tight_layout cannot make axes width small enough to accommodate all axes decorations\n",
            "  \"\"\"\n",
            "/usr/local/lib/python3.7/dist-packages/ipykernel_launcher.py:5: UserWarning: Tight layout not applied. tight_layout cannot make axes width small enough to accommodate all axes decorations\n",
            "  \"\"\"\n",
            "/usr/local/lib/python3.7/dist-packages/ipykernel_launcher.py:5: UserWarning: Tight layout not applied. tight_layout cannot make axes width small enough to accommodate all axes decorations\n",
            "  \"\"\"\n"
          ]
        },
        {
          "output_type": "display_data",
          "data": {
            "image/png": "[encoded data removed]",
            "text/plain": [
              "<Figure size 432x288 with 9 Axes>"
            ]
          },
          "metadata": {
            "needs_background": "light"
          }
        }
      ]
    },
    {
      "cell_type": "code",
      "source": [
        "Q1 = modified_data.quantile(0.25)\n",
        "Q3 = modified_data.quantile(0.75)\n",
        "IQR = Q3 - Q1\n",
        "Upper_Whisker = Q3+1.5*IQR\n",
        "print(IQR)"
      ],
      "metadata": {
        "colab": {
          "base_uri": "https://localhost:8080/"
        },
        "id": "xqvitcMaYNMN",
        "outputId": "54499215-238d-4197-8598-881622394894"
      },
      "execution_count": null,
      "outputs": [
        {
          "output_type": "stream",
          "name": "stdout",
          "text": [
            "Life_expectancy_                     12.10000\n",
            "Adult_Mortality                     155.00000\n",
            "_BMI_                                36.40000\n",
            "_HIV/AIDS                             0.70000\n",
            "GDP                                5771.36912\n",
            "underweight 10-19 y.o                 5.50000\n",
            "underweight 5-9 y.o                   5.50000\n",
            "Income_composition_of_resources       0.25100\n",
            "Schooling                             3.80000\n",
            "dtype: float64\n"
          ]
        }
      ]
    },
    {
      "cell_type": "code",
      "source": [
        "plt.figure(figsize=(5,5))\n",
        "sns.boxplot(y='Income_composition_of_resources',data=modified_data)"
      ],
      "metadata": {
        "colab": {
          "base_uri": "https://localhost:8080/",
          "height": 323
        },
        "id": "MhZQ91yWSe0e",
        "outputId": "f124992f-c00f-4a05-eb21-64ed85671d51"
      },
      "execution_count": null,
      "outputs": [
        {
          "output_type": "execute_result",
          "data": {
            "text/plain": [
              "<matplotlib.axes._subplots.AxesSubplot at 0x7fd5d643ed50>"
            ]
          },
          "metadata": {},
          "execution_count": 99
        },
        {
          "output_type": "display_data",
          "data": {
            "image/png": "[encoded data removed]",
            "text/plain": [
              "<Figure size 360x360 with 1 Axes>"
            ]
          },
          "metadata": {
            "needs_background": "light"
          }
        }
      ]
    },
    {
      "cell_type": "code",
      "source": [
        "modified_data[modified_data['Income_composition_of_resources']<0.2][['Country','Income_composition_of_resources']]"
      ],
      "metadata": {
        "colab": {
          "base_uri": "https://localhost:8080/",
          "height": 238
        },
        "id": "YFVeQHVISzcW",
        "outputId": "6f7c9b7b-3d90-4eb0-f4c7-5fb588cc5098"
      },
      "execution_count": null,
      "outputs": [
        {
          "output_type": "execute_result",
          "data": {
            "text/html": [
              "\n",
              "  <div id=\"df-aa8bae00-d27e-4905-8696-dc8d3d3e9c03\">\n",
              "    <div class=\"colab-df-container\">\n",
              "      <div>\n",
              "<style scoped>\n",
              "    .dataframe tbody tr th:only-of-type {\n",
              "        vertical-align: middle;\n",
              "    }\n",
              "\n",
              "    .dataframe tbody tr th {\n",
              "        vertical-align: top;\n",
              "    }\n",
              "\n",
              "    .dataframe thead th {\n",
              "        text-align: right;\n",
              "    }\n",
              "</style>\n",
              "<table border=\"1\" class=\"dataframe\">\n",
              "  <thead>\n",
              "    <tr style=\"text-align: right;\">\n",
              "      <th></th>\n",
              "      <th>Country</th>\n",
              "      <th>Income_composition_of_resources</th>\n",
              "    </tr>\n",
              "  </thead>\n",
              "  <tbody>\n",
              "    <tr>\n",
              "      <th>293</th>\n",
              "      <td>Bhutan</td>\n",
              "      <td>0.0</td>\n",
              "    </tr>\n",
              "    <tr>\n",
              "      <th>294</th>\n",
              "      <td>Bhutan</td>\n",
              "      <td>0.0</td>\n",
              "    </tr>\n",
              "    <tr>\n",
              "      <th>295</th>\n",
              "      <td>Bhutan</td>\n",
              "      <td>0.0</td>\n",
              "    </tr>\n",
              "    <tr>\n",
              "      <th>2702</th>\n",
              "      <td>Turkmenistan</td>\n",
              "      <td>0.0</td>\n",
              "    </tr>\n",
              "    <tr>\n",
              "      <th>2703</th>\n",
              "      <td>Turkmenistan</td>\n",
              "      <td>0.0</td>\n",
              "    </tr>\n",
              "    <tr>\n",
              "      <th>2704</th>\n",
              "      <td>Turkmenistan</td>\n",
              "      <td>0.0</td>\n",
              "    </tr>\n",
              "  </tbody>\n",
              "</table>\n",
              "</div>\n",
              "      <button class=\"colab-df-convert\" onclick=\"convertToInteractive('df-aa8bae00-d27e-4905-8696-dc8d3d3e9c03')\"\n",
              "              title=\"Convert this dataframe to an interactive table.\"\n",
              "              style=\"display:none;\">\n",
              "        \n",
              "  <svg xmlns=\"http://www.w3.org/2000/svg\" height=\"24px\"viewBox=\"0 0 24 24\"\n",
              "       width=\"24px\">\n",
              "    <path d=\"M0 0h24v24H0V0z\" fill=\"none\"/>\n",
              "    <path d=\"M18.56 5.44l.94 2.06.94-2.06 2.06-.94-2.06-.94-.94-2.06-.94 2.06-2.06.94zm-11 1L8.5 8.5l.94-2.06 2.06-.94-2.06-.94L8.5 2.5l-.94 2.06-2.06.94zm10 10l.94 2.06.94-2.06 2.06-.94-2.06-.94-.94-2.06-.94 2.06-2.06.94z\"/><path d=\"M17.41 7.96l-1.37-1.37c-.4-.4-.92-.59-1.43-.59-.52 0-1.04.2-1.43.59L10.3 9.45l-7.72 7.72c-.78.78-.78 2.05 0 2.83L4 21.41c.39.39.9.59 1.41.59.51 0 1.02-.2 1.41-.59l7.78-7.78 2.81-2.81c.8-.78.8-2.07 0-2.86zM5.41 20L4 18.59l7.72-7.72 1.47 1.35L5.41 20z\"/>\n",
              "  </svg>\n",
              "      </button>\n",
              "      \n",
              "  <style>\n",
              "    .colab-df-container {\n",
              "      display:flex;\n",
              "      flex-wrap:wrap;\n",
              "      gap: 12px;\n",
              "    }\n",
              "\n",
              "    .colab-df-convert {\n",
              "      background-color: #E8F0FE;\n",
              "      border: none;\n",
              "      border-radius: 50%;\n",
              "      cursor: pointer;\n",
              "      display: none;\n",
              "      fill: #1967D2;\n",
              "      height: 32px;\n",
              "      padding: 0 0 0 0;\n",
              "      width: 32px;\n",
              "    }\n",
              "\n",
              "    .colab-df-convert:hover {\n",
              "      background-color: #E2EBFA;\n",
              "      box-shadow: 0px 1px 2px rgba(60, 64, 67, 0.3), 0px 1px 3px 1px rgba(60, 64, 67, 0.15);\n",
              "      fill: #174EA6;\n",
              "    }\n",
              "\n",
              "    [theme=dark] .colab-df-convert {\n",
              "      background-color: #3B4455;\n",
              "      fill: #D2E3FC;\n",
              "    }\n",
              "\n",
              "    [theme=dark] .colab-df-convert:hover {\n",
              "      background-color: #434B5C;\n",
              "      box-shadow: 0px 1px 3px 1px rgba(0, 0, 0, 0.15);\n",
              "      filter: drop-shadow(0px 1px 2px rgba(0, 0, 0, 0.3));\n",
              "      fill: #FFFFFF;\n",
              "    }\n",
              "  </style>\n",
              "\n",
              "      <script>\n",
              "        const buttonEl =\n",
              "          document.querySelector('#df-aa8bae00-d27e-4905-8696-dc8d3d3e9c03 button.colab-df-convert');\n",
              "        buttonEl.style.display =\n",
              "          google.colab.kernel.accessAllowed ? 'block' : 'none';\n",
              "\n",
              "        async function convertToInteractive(key) {\n",
              "          const element = document.querySelector('#df-aa8bae00-d27e-4905-8696-dc8d3d3e9c03');\n",
              "          const dataTable =\n",
              "            await google.colab.kernel.invokeFunction('convertToInteractive',\n",
              "                                                     [key], {});\n",
              "          if (!dataTable) return;\n",
              "\n",
              "          const docLinkHtml = 'Like what you see? Visit the ' +\n",
              "            '<a target=\"_blank\" href=https://colab.research.google.com/notebooks/data_table.ipynb>data table notebook</a>'\n",
              "            + ' to learn more about interactive tables.';\n",
              "          element.innerHTML = '';\n",
              "          dataTable['output_type'] = 'display_data';\n",
              "          await google.colab.output.renderOutput(dataTable, element);\n",
              "          const docLink = document.createElement('div');\n",
              "          docLink.innerHTML = docLinkHtml;\n",
              "          element.appendChild(docLink);\n",
              "        }\n",
              "      </script>\n",
              "    </div>\n",
              "  </div>\n",
              "  "
            ],
            "text/plain": [
              "           Country  Income_composition_of_resources\n",
              "293         Bhutan                              0.0\n",
              "294         Bhutan                              0.0\n",
              "295         Bhutan                              0.0\n",
              "2702  Turkmenistan                              0.0\n",
              "2703  Turkmenistan                              0.0\n",
              "2704  Turkmenistan                              0.0"
            ]
          },
          "metadata": {},
          "execution_count": 100
        }
      ]
    },
    {
      "cell_type": "markdown",
      "source": [
        "decide to delete the rows since its impossible to completely not using resources at all"
      ],
      "metadata": {
        "id": "35yAzuTGfjQ9"
      }
    },
    {
      "cell_type": "code",
      "source": [
        "modified_data=modified_data.drop(modified_data[modified_data.Income_composition_of_resources<0.2].index)"
      ],
      "metadata": {
        "id": "wCVqJyrFcN_M"
      },
      "execution_count": null,
      "outputs": []
    },
    {
      "cell_type": "code",
      "source": [
        "plt.figure(figsize=(5,5))\n",
        "sns.boxplot(y='Schooling',data=modified_data)"
      ],
      "metadata": {
        "colab": {
          "base_uri": "https://localhost:8080/",
          "height": 323
        },
        "id": "b_-EstqCeEhS",
        "outputId": "169dd8de-bae0-4ea6-c1a4-d5ebfb9db8b5"
      },
      "execution_count": null,
      "outputs": [
        {
          "output_type": "execute_result",
          "data": {
            "text/plain": [
              "<matplotlib.axes._subplots.AxesSubplot at 0x7fd5d5aae4d0>"
            ]
          },
          "metadata": {},
          "execution_count": 139
        },
        {
          "output_type": "display_data",
          "data": {
            "image/png": "[encoded data removed]",
            "text/plain": [
              "<Figure size 360x360 with 1 Axes>"
            ]
          },
          "metadata": {
            "needs_background": "light"
          }
        }
      ]
    },
    {
      "cell_type": "markdown",
      "source": [
        "decide to not delete since the outliers still acceptable"
      ],
      "metadata": {
        "id": "g7JBkSTbeZEm"
      }
    },
    {
      "cell_type": "code",
      "source": [
        "plt.figure(figsize=(5,5))\n",
        "sns.boxplot(y='underweight 10-19 y.o',data=modified_data)"
      ],
      "metadata": {
        "colab": {
          "base_uri": "https://localhost:8080/",
          "height": 323
        },
        "id": "hwO-ymIref24",
        "outputId": "ee70e028-10a1-47de-c515-54c4f79ad9a7"
      },
      "execution_count": null,
      "outputs": [
        {
          "output_type": "execute_result",
          "data": {
            "text/plain": [
              "<matplotlib.axes._subplots.AxesSubplot at 0x7fd5d5a42d10>"
            ]
          },
          "metadata": {},
          "execution_count": 140
        },
        {
          "output_type": "display_data",
          "data": {
            "image/png": "[encoded data removed]",
            "text/plain": [
              "<Figure size 360x360 with 1 Axes>"
            ]
          },
          "metadata": {
            "needs_background": "light"
          }
        }
      ]
    },
    {
      "cell_type": "code",
      "source": [
        "modified_data[modified_data['underweight 10-19 y.o']>20][['Country','underweight 10-19 y.o']]"
      ],
      "metadata": {
        "colab": {
          "base_uri": "https://localhost:8080/",
          "height": 269
        },
        "id": "oV8xMmnVeqkR",
        "outputId": "098b85f3-2591-4aad-bfb2-91554f4d1cb7"
      },
      "execution_count": null,
      "outputs": [
        {
          "output_type": "execute_result",
          "data": {
            "text/html": [
              "\n",
              "  <div id=\"df-2db627e9-523d-4ba4-92c2-e559a964a576\">\n",
              "    <div class=\"colab-df-container\">\n",
              "      <div>\n",
              "<style scoped>\n",
              "    .dataframe tbody tr th:only-of-type {\n",
              "        vertical-align: middle;\n",
              "    }\n",
              "\n",
              "    .dataframe tbody tr th {\n",
              "        vertical-align: top;\n",
              "    }\n",
              "\n",
              "    .dataframe thead th {\n",
              "        text-align: right;\n",
              "    }\n",
              "</style>\n",
              "<table border=\"1\" class=\"dataframe\">\n",
              "  <thead>\n",
              "    <tr style=\"text-align: right;\">\n",
              "      <th></th>\n",
              "      <th>Country</th>\n",
              "      <th>underweight 10-19 y.o</th>\n",
              "    </tr>\n",
              "  </thead>\n",
              "  <tbody>\n",
              "    <tr>\n",
              "      <th>1187</th>\n",
              "      <td>India</td>\n",
              "      <td>26.8</td>\n",
              "    </tr>\n",
              "    <tr>\n",
              "      <th>1188</th>\n",
              "      <td>India</td>\n",
              "      <td>26.8</td>\n",
              "    </tr>\n",
              "    <tr>\n",
              "      <th>1189</th>\n",
              "      <td>India</td>\n",
              "      <td>26.9</td>\n",
              "    </tr>\n",
              "    <tr>\n",
              "      <th>1190</th>\n",
              "      <td>India</td>\n",
              "      <td>26.9</td>\n",
              "    </tr>\n",
              "    <tr>\n",
              "      <th>1191</th>\n",
              "      <td>India</td>\n",
              "      <td>27.0</td>\n",
              "    </tr>\n",
              "    <tr>\n",
              "      <th>1192</th>\n",
              "      <td>India</td>\n",
              "      <td>27.0</td>\n",
              "    </tr>\n",
              "    <tr>\n",
              "      <th>1193</th>\n",
              "      <td>India</td>\n",
              "      <td>27.0</td>\n",
              "    </tr>\n",
              "  </tbody>\n",
              "</table>\n",
              "</div>\n",
              "      <button class=\"colab-df-convert\" onclick=\"convertToInteractive('df-2db627e9-523d-4ba4-92c2-e559a964a576')\"\n",
              "              title=\"Convert this dataframe to an interactive table.\"\n",
              "              style=\"display:none;\">\n",
              "        \n",
              "  <svg xmlns=\"http://www.w3.org/2000/svg\" height=\"24px\"viewBox=\"0 0 24 24\"\n",
              "       width=\"24px\">\n",
              "    <path d=\"M0 0h24v24H0V0z\" fill=\"none\"/>\n",
              "    <path d=\"M18.56 5.44l.94 2.06.94-2.06 2.06-.94-2.06-.94-.94-2.06-.94 2.06-2.06.94zm-11 1L8.5 8.5l.94-2.06 2.06-.94-2.06-.94L8.5 2.5l-.94 2.06-2.06.94zm10 10l.94 2.06.94-2.06 2.06-.94-2.06-.94-.94-2.06-.94 2.06-2.06.94z\"/><path d=\"M17.41 7.96l-1.37-1.37c-.4-.4-.92-.59-1.43-.59-.52 0-1.04.2-1.43.59L10.3 9.45l-7.72 7.72c-.78.78-.78 2.05 0 2.83L4 21.41c.39.39.9.59 1.41.59.51 0 1.02-.2 1.41-.59l7.78-7.78 2.81-2.81c.8-.78.8-2.07 0-2.86zM5.41 20L4 18.59l7.72-7.72 1.47 1.35L5.41 20z\"/>\n",
              "  </svg>\n",
              "      </button>\n",
              "      \n",
              "  <style>\n",
              "    .colab-df-container {\n",
              "      display:flex;\n",
              "      flex-wrap:wrap;\n",
              "      gap: 12px;\n",
              "    }\n",
              "\n",
              "    .colab-df-convert {\n",
              "      background-color: #E8F0FE;\n",
              "      border: none;\n",
              "      border-radius: 50%;\n",
              "      cursor: pointer;\n",
              "      display: none;\n",
              "      fill: #1967D2;\n",
              "      height: 32px;\n",
              "      padding: 0 0 0 0;\n",
              "      width: 32px;\n",
              "    }\n",
              "\n",
              "    .colab-df-convert:hover {\n",
              "      background-color: #E2EBFA;\n",
              "      box-shadow: 0px 1px 2px rgba(60, 64, 67, 0.3), 0px 1px 3px 1px rgba(60, 64, 67, 0.15);\n",
              "      fill: #174EA6;\n",
              "    }\n",
              "\n",
              "    [theme=dark] .colab-df-convert {\n",
              "      background-color: #3B4455;\n",
              "      fill: #D2E3FC;\n",
              "    }\n",
              "\n",
              "    [theme=dark] .colab-df-convert:hover {\n",
              "      background-color: #434B5C;\n",
              "      box-shadow: 0px 1px 3px 1px rgba(0, 0, 0, 0.15);\n",
              "      filter: drop-shadow(0px 1px 2px rgba(0, 0, 0, 0.3));\n",
              "      fill: #FFFFFF;\n",
              "    }\n",
              "  </style>\n",
              "\n",
              "      <script>\n",
              "        const buttonEl =\n",
              "          document.querySelector('#df-2db627e9-523d-4ba4-92c2-e559a964a576 button.colab-df-convert');\n",
              "        buttonEl.style.display =\n",
              "          google.colab.kernel.accessAllowed ? 'block' : 'none';\n",
              "\n",
              "        async function convertToInteractive(key) {\n",
              "          const element = document.querySelector('#df-2db627e9-523d-4ba4-92c2-e559a964a576');\n",
              "          const dataTable =\n",
              "            await google.colab.kernel.invokeFunction('convertToInteractive',\n",
              "                                                     [key], {});\n",
              "          if (!dataTable) return;\n",
              "\n",
              "          const docLinkHtml = 'Like what you see? Visit the ' +\n",
              "            '<a target=\"_blank\" href=https://colab.research.google.com/notebooks/data_table.ipynb>data table notebook</a>'\n",
              "            + ' to learn more about interactive tables.';\n",
              "          element.innerHTML = '';\n",
              "          dataTable['output_type'] = 'display_data';\n",
              "          await google.colab.output.renderOutput(dataTable, element);\n",
              "          const docLink = document.createElement('div');\n",
              "          docLink.innerHTML = docLinkHtml;\n",
              "          element.appendChild(docLink);\n",
              "        }\n",
              "      </script>\n",
              "    </div>\n",
              "  </div>\n",
              "  "
            ],
            "text/plain": [
              "     Country  underweight 10-19 y.o\n",
              "1187   India                   26.8\n",
              "1188   India                   26.8\n",
              "1189   India                   26.9\n",
              "1190   India                   26.9\n",
              "1191   India                   27.0\n",
              "1192   India                   27.0\n",
              "1193   India                   27.0"
            ]
          },
          "metadata": {},
          "execution_count": 141
        }
      ]
    },
    {
      "cell_type": "markdown",
      "source": [
        "decide to keep it since it doesnt seem like outliers, just the country having high rate of underweight citizens"
      ],
      "metadata": {
        "id": "ED8TJRuzfMGv"
      }
    },
    {
      "cell_type": "code",
      "source": [
        "plt.figure(figsize=(5,5))\n",
        "sns.boxplot(y='underweight 5-9 y.o',data=modified_data)"
      ],
      "metadata": {
        "colab": {
          "base_uri": "https://localhost:8080/",
          "height": 323
        },
        "id": "Di2XJagugZvq",
        "outputId": "3f990195-47a4-4b58-b13c-ccf1869012e1"
      },
      "execution_count": null,
      "outputs": [
        {
          "output_type": "execute_result",
          "data": {
            "text/plain": [
              "<matplotlib.axes._subplots.AxesSubplot at 0x7fd5d5a15f10>"
            ]
          },
          "metadata": {},
          "execution_count": 142
        },
        {
          "output_type": "display_data",
          "data": {
            "image/png": "[encoded data removed]",
            "text/plain": [
              "<Figure size 360x360 with 1 Axes>"
            ]
          },
          "metadata": {
            "needs_background": "light"
          }
        }
      ]
    },
    {
      "cell_type": "code",
      "source": [
        "modified_data[modified_data['underweight 5-9 y.o']>20][['Country','underweight 5-9 y.o']]"
      ],
      "metadata": {
        "colab": {
          "base_uri": "https://localhost:8080/",
          "height": 300
        },
        "id": "sHwXQUAxgh9C",
        "outputId": "4a96622b-f5c6-4bd2-cf05-865140b274ae"
      },
      "execution_count": null,
      "outputs": [
        {
          "output_type": "execute_result",
          "data": {
            "text/html": [
              "\n",
              "  <div id=\"df-fa6c4c11-52ff-4b6d-a2a4-dbc1c097e4d1\">\n",
              "    <div class=\"colab-df-container\">\n",
              "      <div>\n",
              "<style scoped>\n",
              "    .dataframe tbody tr th:only-of-type {\n",
              "        vertical-align: middle;\n",
              "    }\n",
              "\n",
              "    .dataframe tbody tr th {\n",
              "        vertical-align: top;\n",
              "    }\n",
              "\n",
              "    .dataframe thead th {\n",
              "        text-align: right;\n",
              "    }\n",
              "</style>\n",
              "<table border=\"1\" class=\"dataframe\">\n",
              "  <thead>\n",
              "    <tr style=\"text-align: right;\">\n",
              "      <th></th>\n",
              "      <th>Country</th>\n",
              "      <th>underweight 5-9 y.o</th>\n",
              "    </tr>\n",
              "  </thead>\n",
              "  <tbody>\n",
              "    <tr>\n",
              "      <th>1187</th>\n",
              "      <td>India</td>\n",
              "      <td>27.4</td>\n",
              "    </tr>\n",
              "    <tr>\n",
              "      <th>1188</th>\n",
              "      <td>India</td>\n",
              "      <td>27.5</td>\n",
              "    </tr>\n",
              "    <tr>\n",
              "      <th>1189</th>\n",
              "      <td>India</td>\n",
              "      <td>27.6</td>\n",
              "    </tr>\n",
              "    <tr>\n",
              "      <th>1190</th>\n",
              "      <td>India</td>\n",
              "      <td>27.7</td>\n",
              "    </tr>\n",
              "    <tr>\n",
              "      <th>1191</th>\n",
              "      <td>India</td>\n",
              "      <td>27.8</td>\n",
              "    </tr>\n",
              "    <tr>\n",
              "      <th>1192</th>\n",
              "      <td>India</td>\n",
              "      <td>27.8</td>\n",
              "    </tr>\n",
              "    <tr>\n",
              "      <th>1193</th>\n",
              "      <td>India</td>\n",
              "      <td>27.9</td>\n",
              "    </tr>\n",
              "    <tr>\n",
              "      <th>1949</th>\n",
              "      <td>Pakistan</td>\n",
              "      <td>21.1</td>\n",
              "    </tr>\n",
              "  </tbody>\n",
              "</table>\n",
              "</div>\n",
              "      <button class=\"colab-df-convert\" onclick=\"convertToInteractive('df-fa6c4c11-52ff-4b6d-a2a4-dbc1c097e4d1')\"\n",
              "              title=\"Convert this dataframe to an interactive table.\"\n",
              "              style=\"display:none;\">\n",
              "        \n",
              "  <svg xmlns=\"http://www.w3.org/2000/svg\" height=\"24px\"viewBox=\"0 0 24 24\"\n",
              "       width=\"24px\">\n",
              "    <path d=\"M0 0h24v24H0V0z\" fill=\"none\"/>\n",
              "    <path d=\"M18.56 5.44l.94 2.06.94-2.06 2.06-.94-2.06-.94-.94-2.06-.94 2.06-2.06.94zm-11 1L8.5 8.5l.94-2.06 2.06-.94-2.06-.94L8.5 2.5l-.94 2.06-2.06.94zm10 10l.94 2.06.94-2.06 2.06-.94-2.06-.94-.94-2.06-.94 2.06-2.06.94z\"/><path d=\"M17.41 7.96l-1.37-1.37c-.4-.4-.92-.59-1.43-.59-.52 0-1.04.2-1.43.59L10.3 9.45l-7.72 7.72c-.78.78-.78 2.05 0 2.83L4 21.41c.39.39.9.59 1.41.59.51 0 1.02-.2 1.41-.59l7.78-7.78 2.81-2.81c.8-.78.8-2.07 0-2.86zM5.41 20L4 18.59l7.72-7.72 1.47 1.35L5.41 20z\"/>\n",
              "  </svg>\n",
              "      </button>\n",
              "      \n",
              "  <style>\n",
              "    .colab-df-container {\n",
              "      display:flex;\n",
              "      flex-wrap:wrap;\n",
              "      gap: 12px;\n",
              "    }\n",
              "\n",
              "    .colab-df-convert {\n",
              "      background-color: #E8F0FE;\n",
              "      border: none;\n",
              "      border-radius: 50%;\n",
              "      cursor: pointer;\n",
              "      display: none;\n",
              "      fill: #1967D2;\n",
              "      height: 32px;\n",
              "      padding: 0 0 0 0;\n",
              "      width: 32px;\n",
              "    }\n",
              "\n",
              "    .colab-df-convert:hover {\n",
              "      background-color: #E2EBFA;\n",
              "      box-shadow: 0px 1px 2px rgba(60, 64, 67, 0.3), 0px 1px 3px 1px rgba(60, 64, 67, 0.15);\n",
              "      fill: #174EA6;\n",
              "    }\n",
              "\n",
              "    [theme=dark] .colab-df-convert {\n",
              "      background-color: #3B4455;\n",
              "      fill: #D2E3FC;\n",
              "    }\n",
              "\n",
              "    [theme=dark] .colab-df-convert:hover {\n",
              "      background-color: #434B5C;\n",
              "      box-shadow: 0px 1px 3px 1px rgba(0, 0, 0, 0.15);\n",
              "      filter: drop-shadow(0px 1px 2px rgba(0, 0, 0, 0.3));\n",
              "      fill: #FFFFFF;\n",
              "    }\n",
              "  </style>\n",
              "\n",
              "      <script>\n",
              "        const buttonEl =\n",
              "          document.querySelector('#df-fa6c4c11-52ff-4b6d-a2a4-dbc1c097e4d1 button.colab-df-convert');\n",
              "        buttonEl.style.display =\n",
              "          google.colab.kernel.accessAllowed ? 'block' : 'none';\n",
              "\n",
              "        async function convertToInteractive(key) {\n",
              "          const element = document.querySelector('#df-fa6c4c11-52ff-4b6d-a2a4-dbc1c097e4d1');\n",
              "          const dataTable =\n",
              "            await google.colab.kernel.invokeFunction('convertToInteractive',\n",
              "                                                     [key], {});\n",
              "          if (!dataTable) return;\n",
              "\n",
              "          const docLinkHtml = 'Like what you see? Visit the ' +\n",
              "            '<a target=\"_blank\" href=https://colab.research.google.com/notebooks/data_table.ipynb>data table notebook</a>'\n",
              "            + ' to learn more about interactive tables.';\n",
              "          element.innerHTML = '';\n",
              "          dataTable['output_type'] = 'display_data';\n",
              "          await google.colab.output.renderOutput(dataTable, element);\n",
              "          const docLink = document.createElement('div');\n",
              "          docLink.innerHTML = docLinkHtml;\n",
              "          element.appendChild(docLink);\n",
              "        }\n",
              "      </script>\n",
              "    </div>\n",
              "  </div>\n",
              "  "
            ],
            "text/plain": [
              "       Country  underweight 5-9 y.o\n",
              "1187     India                 27.4\n",
              "1188     India                 27.5\n",
              "1189     India                 27.6\n",
              "1190     India                 27.7\n",
              "1191     India                 27.8\n",
              "1192     India                 27.8\n",
              "1193     India                 27.9\n",
              "1949  Pakistan                 21.1"
            ]
          },
          "metadata": {},
          "execution_count": 143
        }
      ]
    },
    {
      "cell_type": "markdown",
      "source": [
        "similar case, decide to keep it since it just shows how the country has extreme number of case compared to other nations "
      ],
      "metadata": {
        "id": "yN01Qoh50IF-"
      }
    },
    {
      "cell_type": "markdown",
      "source": [
        "#Heatmap to show correlation"
      ],
      "metadata": {
        "id": "eWMMvDBbzvKV"
      }
    },
    {
      "cell_type": "code",
      "source": [
        "#heatmap to show correlation\n",
        "#treshold (>=0.8)\n",
        "correlation = modified_data.corr()\n",
        "sns.heatmap(correlation, annot=True, fmt='.2f')"
      ],
      "metadata": {
        "colab": {
          "base_uri": "https://localhost:8080/",
          "height": 446
        },
        "id": "cha9eAsstqi9",
        "outputId": "c8c04b1f-73ec-40cc-e3a3-8f755ad435be"
      },
      "execution_count": null,
      "outputs": [
        {
          "output_type": "execute_result",
          "data": {
            "text/plain": [
              "<matplotlib.axes._subplots.AxesSubplot at 0x7fd5d5c6f790>"
            ]
          },
          "metadata": {},
          "execution_count": 136
        },
        {
          "output_type": "display_data",
          "data": {
            "image/png": "[encoded data removed]",
            "text/plain": [
              "<Figure size 432x288 with 2 Axes>"
            ]
          },
          "metadata": {
            "needs_background": "light"
          }
        }
      ]
    },
    {
      "cell_type": "markdown",
      "source": [
        "Observation:\n",
        "\n",
        "1. `underweight 10-19` y.o' and `underweight 5-9 y.o` column have the highest correlation which is 0.93\n",
        "2. `Life_expectancy_` and `Income_composition_of_resources`are highly correlated (0.88)\n",
        "3. `Income_composition_of_resources` and `Schooling` are also highly correlated (0.92)\n",
        "\n",
        "in this project,  `Income_composition_of_resources` column is chosen as the representatives since its the most highly correlated to the target variables compared to the other predicting factors "
      ],
      "metadata": {
        "id": "jzFDkQHS2P_O"
      }
    },
    {
      "cell_type": "markdown",
      "source": [
        "#Statistical summary"
      ],
      "metadata": {
        "id": "0dqYOIwPBI65"
      }
    },
    {
      "cell_type": "code",
      "source": [
        "# group column names based on type\n",
        "categoricals = ['Country','Status']\n",
        "\n",
        "numericals = ['Life_expectancy_','Adult_Mortality','_BMI_',\t'_HIV/AIDS','GDP','underweight 10-19 y.o','underweight 5-9 y.o','Income_composition_of_resources','Schooling']"
      ],
      "metadata": {
        "id": "xQSr38YIBQnW"
      },
      "execution_count": null,
      "outputs": []
    },
    {
      "cell_type": "code",
      "source": [
        "# numerical statistical sumary\n",
        "modified_data[numericals].describe()"
      ],
      "metadata": {
        "colab": {
          "base_uri": "https://localhost:8080/",
          "height": 362
        },
        "id": "oNEpDGDHBq7-",
        "outputId": "22720db4-f5ea-47cb-8be8-7c4f067b1852"
      },
      "execution_count": null,
      "outputs": [
        {
          "output_type": "execute_result",
          "data": {
            "text/html": [
              "\n",
              "  <div id=\"df-86b4bd75-f371-4a03-b150-32e0b94a02ad\">\n",
              "    <div class=\"colab-df-container\">\n",
              "      <div>\n",
              "<style scoped>\n",
              "    .dataframe tbody tr th:only-of-type {\n",
              "        vertical-align: middle;\n",
              "    }\n",
              "\n",
              "    .dataframe tbody tr th {\n",
              "        vertical-align: top;\n",
              "    }\n",
              "\n",
              "    .dataframe thead th {\n",
              "        text-align: right;\n",
              "    }\n",
              "</style>\n",
              "<table border=\"1\" class=\"dataframe\">\n",
              "  <thead>\n",
              "    <tr style=\"text-align: right;\">\n",
              "      <th></th>\n",
              "      <th>Life_expectancy_</th>\n",
              "      <th>Adult_Mortality</th>\n",
              "      <th>_BMI_</th>\n",
              "      <th>_HIV/AIDS</th>\n",
              "      <th>GDP</th>\n",
              "      <th>underweight 10-19 y.o</th>\n",
              "      <th>underweight 5-9 y.o</th>\n",
              "      <th>Income_composition_of_resources</th>\n",
              "      <th>Schooling</th>\n",
              "    </tr>\n",
              "  </thead>\n",
              "  <tbody>\n",
              "    <tr>\n",
              "      <th>count</th>\n",
              "      <td>893.000000</td>\n",
              "      <td>893.000000</td>\n",
              "      <td>893.000000</td>\n",
              "      <td>893.000000</td>\n",
              "      <td>893.000000</td>\n",
              "      <td>893.000000</td>\n",
              "      <td>893.000000</td>\n",
              "      <td>893.000000</td>\n",
              "      <td>893.000000</td>\n",
              "    </tr>\n",
              "    <tr>\n",
              "      <th>mean</th>\n",
              "      <td>69.694737</td>\n",
              "      <td>165.650616</td>\n",
              "      <td>38.400896</td>\n",
              "      <td>1.370101</td>\n",
              "      <td>6585.160801</td>\n",
              "      <td>4.852184</td>\n",
              "      <td>4.877156</td>\n",
              "      <td>0.653564</td>\n",
              "      <td>12.326764</td>\n",
              "    </tr>\n",
              "    <tr>\n",
              "      <th>std</th>\n",
              "      <td>8.740667</td>\n",
              "      <td>115.071809</td>\n",
              "      <td>20.560238</td>\n",
              "      <td>3.432852</td>\n",
              "      <td>13089.735951</td>\n",
              "      <td>4.495652</td>\n",
              "      <td>4.536970</td>\n",
              "      <td>0.154249</td>\n",
              "      <td>2.795823</td>\n",
              "    </tr>\n",
              "    <tr>\n",
              "      <th>min</th>\n",
              "      <td>46.200000</td>\n",
              "      <td>1.000000</td>\n",
              "      <td>2.000000</td>\n",
              "      <td>0.100000</td>\n",
              "      <td>5.668726</td>\n",
              "      <td>0.100000</td>\n",
              "      <td>0.100000</td>\n",
              "      <td>0.307000</td>\n",
              "      <td>4.200000</td>\n",
              "    </tr>\n",
              "    <tr>\n",
              "      <th>25%</th>\n",
              "      <td>63.200000</td>\n",
              "      <td>77.000000</td>\n",
              "      <td>21.100000</td>\n",
              "      <td>0.100000</td>\n",
              "      <td>566.513873</td>\n",
              "      <td>1.600000</td>\n",
              "      <td>1.600000</td>\n",
              "      <td>0.515000</td>\n",
              "      <td>10.500000</td>\n",
              "    </tr>\n",
              "    <tr>\n",
              "      <th>50%</th>\n",
              "      <td>72.000000</td>\n",
              "      <td>147.000000</td>\n",
              "      <td>42.400000</td>\n",
              "      <td>0.100000</td>\n",
              "      <td>1953.976700</td>\n",
              "      <td>3.300000</td>\n",
              "      <td>3.300000</td>\n",
              "      <td>0.688000</td>\n",
              "      <td>12.500000</td>\n",
              "    </tr>\n",
              "    <tr>\n",
              "      <th>75%</th>\n",
              "      <td>75.300000</td>\n",
              "      <td>232.000000</td>\n",
              "      <td>57.500000</td>\n",
              "      <td>0.800000</td>\n",
              "      <td>6337.882993</td>\n",
              "      <td>7.100000</td>\n",
              "      <td>7.100000</td>\n",
              "      <td>0.766000</td>\n",
              "      <td>14.300000</td>\n",
              "    </tr>\n",
              "    <tr>\n",
              "      <th>max</th>\n",
              "      <td>89.000000</td>\n",
              "      <td>632.000000</td>\n",
              "      <td>77.100000</td>\n",
              "      <td>40.200000</td>\n",
              "      <td>119172.741800</td>\n",
              "      <td>27.000000</td>\n",
              "      <td>27.900000</td>\n",
              "      <td>0.936000</td>\n",
              "      <td>20.400000</td>\n",
              "    </tr>\n",
              "  </tbody>\n",
              "</table>\n",
              "</div>\n",
              "      <button class=\"colab-df-convert\" onclick=\"convertToInteractive('df-86b4bd75-f371-4a03-b150-32e0b94a02ad')\"\n",
              "              title=\"Convert this dataframe to an interactive table.\"\n",
              "              style=\"display:none;\">\n",
              "        \n",
              "  <svg xmlns=\"http://www.w3.org/2000/svg\" height=\"24px\"viewBox=\"0 0 24 24\"\n",
              "       width=\"24px\">\n",
              "    <path d=\"M0 0h24v24H0V0z\" fill=\"none\"/>\n",
              "    <path d=\"M18.56 5.44l.94 2.06.94-2.06 2.06-.94-2.06-.94-.94-2.06-.94 2.06-2.06.94zm-11 1L8.5 8.5l.94-2.06 2.06-.94-2.06-.94L8.5 2.5l-.94 2.06-2.06.94zm10 10l.94 2.06.94-2.06 2.06-.94-2.06-.94-.94-2.06-.94 2.06-2.06.94z\"/><path d=\"M17.41 7.96l-1.37-1.37c-.4-.4-.92-.59-1.43-.59-.52 0-1.04.2-1.43.59L10.3 9.45l-7.72 7.72c-.78.78-.78 2.05 0 2.83L4 21.41c.39.39.9.59 1.41.59.51 0 1.02-.2 1.41-.59l7.78-7.78 2.81-2.81c.8-.78.8-2.07 0-2.86zM5.41 20L4 18.59l7.72-7.72 1.47 1.35L5.41 20z\"/>\n",
              "  </svg>\n",
              "      </button>\n",
              "      \n",
              "  <style>\n",
              "    .colab-df-container {\n",
              "      display:flex;\n",
              "      flex-wrap:wrap;\n",
              "      gap: 12px;\n",
              "    }\n",
              "\n",
              "    .colab-df-convert {\n",
              "      background-color: #E8F0FE;\n",
              "      border: none;\n",
              "      border-radius: 50%;\n",
              "      cursor: pointer;\n",
              "      display: none;\n",
              "      fill: #1967D2;\n",
              "      height: 32px;\n",
              "      padding: 0 0 0 0;\n",
              "      width: 32px;\n",
              "    }\n",
              "\n",
              "    .colab-df-convert:hover {\n",
              "      background-color: #E2EBFA;\n",
              "      box-shadow: 0px 1px 2px rgba(60, 64, 67, 0.3), 0px 1px 3px 1px rgba(60, 64, 67, 0.15);\n",
              "      fill: #174EA6;\n",
              "    }\n",
              "\n",
              "    [theme=dark] .colab-df-convert {\n",
              "      background-color: #3B4455;\n",
              "      fill: #D2E3FC;\n",
              "    }\n",
              "\n",
              "    [theme=dark] .colab-df-convert:hover {\n",
              "      background-color: #434B5C;\n",
              "      box-shadow: 0px 1px 3px 1px rgba(0, 0, 0, 0.15);\n",
              "      filter: drop-shadow(0px 1px 2px rgba(0, 0, 0, 0.3));\n",
              "      fill: #FFFFFF;\n",
              "    }\n",
              "  </style>\n",
              "\n",
              "      <script>\n",
              "        const buttonEl =\n",
              "          document.querySelector('#df-86b4bd75-f371-4a03-b150-32e0b94a02ad button.colab-df-convert');\n",
              "        buttonEl.style.display =\n",
              "          google.colab.kernel.accessAllowed ? 'block' : 'none';\n",
              "\n",
              "        async function convertToInteractive(key) {\n",
              "          const element = document.querySelector('#df-86b4bd75-f371-4a03-b150-32e0b94a02ad');\n",
              "          const dataTable =\n",
              "            await google.colab.kernel.invokeFunction('convertToInteractive',\n",
              "                                                     [key], {});\n",
              "          if (!dataTable) return;\n",
              "\n",
              "          const docLinkHtml = 'Like what you see? Visit the ' +\n",
              "            '<a target=\"_blank\" href=https://colab.research.google.com/notebooks/data_table.ipynb>data table notebook</a>'\n",
              "            + ' to learn more about interactive tables.';\n",
              "          element.innerHTML = '';\n",
              "          dataTable['output_type'] = 'display_data';\n",
              "          await google.colab.output.renderOutput(dataTable, element);\n",
              "          const docLink = document.createElement('div');\n",
              "          docLink.innerHTML = docLinkHtml;\n",
              "          element.appendChild(docLink);\n",
              "        }\n",
              "      </script>\n",
              "    </div>\n",
              "  </div>\n",
              "  "
            ],
            "text/plain": [
              "       Life_expectancy_  ...   Schooling\n",
              "count        893.000000  ...  893.000000\n",
              "mean          69.694737  ...   12.326764\n",
              "std            8.740667  ...    2.795823\n",
              "min           46.200000  ...    4.200000\n",
              "25%           63.200000  ...   10.500000\n",
              "50%           72.000000  ...   12.500000\n",
              "75%           75.300000  ...   14.300000\n",
              "max           89.000000  ...   20.400000\n",
              "\n",
              "[8 rows x 9 columns]"
            ]
          },
          "metadata": {},
          "execution_count": 20
        }
      ]
    },
    {
      "cell_type": "markdown",
      "source": [
        "1. Mean ~ Median (50%) in `Life_expectancy_`,`_BMI_`,`_HIV/AIDS`,`underweight 10-19 y.o`,`underweight 5-9 y.o`,`Income_composition_of_resources`, `Schooling` columns, indicating somewhat a symmetrical distribution\n",
        "2. Mean >> 50% (Median) in `Adult_Mortality` and `GDP` columns, indicating they are positively skewed distribution"
      ],
      "metadata": {
        "id": "RntEceamBwUX"
      }
    },
    {
      "cell_type": "code",
      "source": [
        "# describe method on categorical data\n",
        "modified_data[categoricals].describe()"
      ],
      "metadata": {
        "colab": {
          "base_uri": "https://localhost:8080/",
          "height": 175
        },
        "id": "qO-gy_I2BVrI",
        "outputId": "151111a3-d63f-41c6-bc77-36387f35849f"
      },
      "execution_count": null,
      "outputs": [
        {
          "output_type": "execute_result",
          "data": {
            "text/html": [
              "\n",
              "  <div id=\"df-36caa912-24a7-4157-8d3a-b57f1f8976e6\">\n",
              "    <div class=\"colab-df-container\">\n",
              "      <div>\n",
              "<style scoped>\n",
              "    .dataframe tbody tr th:only-of-type {\n",
              "        vertical-align: middle;\n",
              "    }\n",
              "\n",
              "    .dataframe tbody tr th {\n",
              "        vertical-align: top;\n",
              "    }\n",
              "\n",
              "    .dataframe thead th {\n",
              "        text-align: right;\n",
              "    }\n",
              "</style>\n",
              "<table border=\"1\" class=\"dataframe\">\n",
              "  <thead>\n",
              "    <tr style=\"text-align: right;\">\n",
              "      <th></th>\n",
              "      <th>Country</th>\n",
              "      <th>Status</th>\n",
              "    </tr>\n",
              "  </thead>\n",
              "  <tbody>\n",
              "    <tr>\n",
              "      <th>count</th>\n",
              "      <td>893</td>\n",
              "      <td>893</td>\n",
              "    </tr>\n",
              "    <tr>\n",
              "      <th>unique</th>\n",
              "      <td>132</td>\n",
              "      <td>2</td>\n",
              "    </tr>\n",
              "    <tr>\n",
              "      <th>top</th>\n",
              "      <td>Afghanistan</td>\n",
              "      <td>Developing</td>\n",
              "    </tr>\n",
              "    <tr>\n",
              "      <th>freq</th>\n",
              "      <td>8</td>\n",
              "      <td>768</td>\n",
              "    </tr>\n",
              "  </tbody>\n",
              "</table>\n",
              "</div>\n",
              "      <button class=\"colab-df-convert\" onclick=\"convertToInteractive('df-36caa912-24a7-4157-8d3a-b57f1f8976e6')\"\n",
              "              title=\"Convert this dataframe to an interactive table.\"\n",
              "              style=\"display:none;\">\n",
              "        \n",
              "  <svg xmlns=\"http://www.w3.org/2000/svg\" height=\"24px\"viewBox=\"0 0 24 24\"\n",
              "       width=\"24px\">\n",
              "    <path d=\"M0 0h24v24H0V0z\" fill=\"none\"/>\n",
              "    <path d=\"M18.56 5.44l.94 2.06.94-2.06 2.06-.94-2.06-.94-.94-2.06-.94 2.06-2.06.94zm-11 1L8.5 8.5l.94-2.06 2.06-.94-2.06-.94L8.5 2.5l-.94 2.06-2.06.94zm10 10l.94 2.06.94-2.06 2.06-.94-2.06-.94-.94-2.06-.94 2.06-2.06.94z\"/><path d=\"M17.41 7.96l-1.37-1.37c-.4-.4-.92-.59-1.43-.59-.52 0-1.04.2-1.43.59L10.3 9.45l-7.72 7.72c-.78.78-.78 2.05 0 2.83L4 21.41c.39.39.9.59 1.41.59.51 0 1.02-.2 1.41-.59l7.78-7.78 2.81-2.81c.8-.78.8-2.07 0-2.86zM5.41 20L4 18.59l7.72-7.72 1.47 1.35L5.41 20z\"/>\n",
              "  </svg>\n",
              "      </button>\n",
              "      \n",
              "  <style>\n",
              "    .colab-df-container {\n",
              "      display:flex;\n",
              "      flex-wrap:wrap;\n",
              "      gap: 12px;\n",
              "    }\n",
              "\n",
              "    .colab-df-convert {\n",
              "      background-color: #E8F0FE;\n",
              "      border: none;\n",
              "      border-radius: 50%;\n",
              "      cursor: pointer;\n",
              "      display: none;\n",
              "      fill: #1967D2;\n",
              "      height: 32px;\n",
              "      padding: 0 0 0 0;\n",
              "      width: 32px;\n",
              "    }\n",
              "\n",
              "    .colab-df-convert:hover {\n",
              "      background-color: #E2EBFA;\n",
              "      box-shadow: 0px 1px 2px rgba(60, 64, 67, 0.3), 0px 1px 3px 1px rgba(60, 64, 67, 0.15);\n",
              "      fill: #174EA6;\n",
              "    }\n",
              "\n",
              "    [theme=dark] .colab-df-convert {\n",
              "      background-color: #3B4455;\n",
              "      fill: #D2E3FC;\n",
              "    }\n",
              "\n",
              "    [theme=dark] .colab-df-convert:hover {\n",
              "      background-color: #434B5C;\n",
              "      box-shadow: 0px 1px 3px 1px rgba(0, 0, 0, 0.15);\n",
              "      filter: drop-shadow(0px 1px 2px rgba(0, 0, 0, 0.3));\n",
              "      fill: #FFFFFF;\n",
              "    }\n",
              "  </style>\n",
              "\n",
              "      <script>\n",
              "        const buttonEl =\n",
              "          document.querySelector('#df-36caa912-24a7-4157-8d3a-b57f1f8976e6 button.colab-df-convert');\n",
              "        buttonEl.style.display =\n",
              "          google.colab.kernel.accessAllowed ? 'block' : 'none';\n",
              "\n",
              "        async function convertToInteractive(key) {\n",
              "          const element = document.querySelector('#df-36caa912-24a7-4157-8d3a-b57f1f8976e6');\n",
              "          const dataTable =\n",
              "            await google.colab.kernel.invokeFunction('convertToInteractive',\n",
              "                                                     [key], {});\n",
              "          if (!dataTable) return;\n",
              "\n",
              "          const docLinkHtml = 'Like what you see? Visit the ' +\n",
              "            '<a target=\"_blank\" href=https://colab.research.google.com/notebooks/data_table.ipynb>data table notebook</a>'\n",
              "            + ' to learn more about interactive tables.';\n",
              "          element.innerHTML = '';\n",
              "          dataTable['output_type'] = 'display_data';\n",
              "          await google.colab.output.renderOutput(dataTable, element);\n",
              "          const docLink = document.createElement('div');\n",
              "          docLink.innerHTML = docLinkHtml;\n",
              "          element.appendChild(docLink);\n",
              "        }\n",
              "      </script>\n",
              "    </div>\n",
              "  </div>\n",
              "  "
            ],
            "text/plain": [
              "            Country      Status\n",
              "count           893         893\n",
              "unique          132           2\n",
              "top     Afghanistan  Developing\n",
              "freq              8         768"
            ]
          },
          "metadata": {},
          "execution_count": 21
        }
      ]
    },
    {
      "cell_type": "code",
      "source": [
        "# showing the precise value counts\n",
        "for col in categoricals:\n",
        "  print(f\"Value counts of {col} column\")\n",
        "  print(data[col].value_counts(), '\\n')"
      ],
      "metadata": {
        "colab": {
          "base_uri": "https://localhost:8080/"
        },
        "id": "vy_y_P-uBZhE",
        "outputId": "5c3c405b-a85b-4f08-9cfd-1398e87bf8dc"
      },
      "execution_count": null,
      "outputs": [
        {
          "output_type": "stream",
          "name": "stdout",
          "text": [
            "Value counts of Country column\n",
            "Afghanistan          8\n",
            "Albania              8\n",
            "Greece               7\n",
            "Spain                7\n",
            "Botswana             7\n",
            "                    ..\n",
            "Sweden               4\n",
            "Eritrea              4\n",
            "Netherlands          4\n",
            "Haiti                2\n",
            "Equatorial Guinea    1\n",
            "Name: Country, Length: 132, dtype: int64 \n",
            "\n",
            "Value counts of Status column\n",
            "Developing    774\n",
            "Developed     125\n",
            "Name: Status, dtype: int64 \n",
            "\n"
          ]
        }
      ]
    },
    {
      "cell_type": "markdown",
      "source": [
        "Finding:\n",
        "\n",
        "based on the data, it seems like most of the information was obtained from developing countries"
      ],
      "metadata": {
        "id": "IpnHrgJDBguA"
      }
    },
    {
      "cell_type": "markdown",
      "source": [
        "#Top 10 countries with high life expectancy in age"
      ],
      "metadata": {
        "id": "jpp43T5eB4up"
      }
    },
    {
      "cell_type": "code",
      "source": [
        "Life_expectancy = modified_data.sort_values(by = 'Life_expectancy_', ascending = False)\n",
        "Life_expectancy.head(10)"
      ],
      "metadata": {
        "colab": {
          "base_uri": "https://localhost:8080/",
          "height": 444
        },
        "id": "iXR8OTqlCtKt",
        "outputId": "b5fa92f8-0554-463e-cccc-cbe4b90bee89"
      },
      "execution_count": null,
      "outputs": [
        {
          "output_type": "execute_result",
          "data": {
            "text/html": [
              "\n",
              "  <div id=\"df-73411a5f-2719-4322-b658-8327449fc449\">\n",
              "    <div class=\"colab-df-container\">\n",
              "      <div>\n",
              "<style scoped>\n",
              "    .dataframe tbody tr th:only-of-type {\n",
              "        vertical-align: middle;\n",
              "    }\n",
              "\n",
              "    .dataframe tbody tr th {\n",
              "        vertical-align: top;\n",
              "    }\n",
              "\n",
              "    .dataframe thead th {\n",
              "        text-align: right;\n",
              "    }\n",
              "</style>\n",
              "<table border=\"1\" class=\"dataframe\">\n",
              "  <thead>\n",
              "    <tr style=\"text-align: right;\">\n",
              "      <th></th>\n",
              "      <th>Country</th>\n",
              "      <th>Status</th>\n",
              "      <th>Life_expectancy_</th>\n",
              "      <th>Adult_Mortality</th>\n",
              "      <th>_BMI_</th>\n",
              "      <th>_HIV/AIDS</th>\n",
              "      <th>GDP</th>\n",
              "      <th>underweight 10-19 y.o</th>\n",
              "      <th>underweight 5-9 y.o</th>\n",
              "      <th>Income_composition_of_resources</th>\n",
              "      <th>Schooling</th>\n",
              "    </tr>\n",
              "  </thead>\n",
              "  <tbody>\n",
              "    <tr>\n",
              "      <th>937</th>\n",
              "      <td>France</td>\n",
              "      <td>Developing</td>\n",
              "      <td>89.0</td>\n",
              "      <td>88.0</td>\n",
              "      <td>59.1</td>\n",
              "      <td>0.1</td>\n",
              "      <td>45413.65710</td>\n",
              "      <td>0.6</td>\n",
              "      <td>0.6</td>\n",
              "      <td>0.877</td>\n",
              "      <td>16.1</td>\n",
              "    </tr>\n",
              "    <tr>\n",
              "      <th>995</th>\n",
              "      <td>Germany</td>\n",
              "      <td>Developed</td>\n",
              "      <td>89.0</td>\n",
              "      <td>69.0</td>\n",
              "      <td>61.9</td>\n",
              "      <td>0.1</td>\n",
              "      <td>4792.65288</td>\n",
              "      <td>1.1</td>\n",
              "      <td>1.1</td>\n",
              "      <td>0.920</td>\n",
              "      <td>17.0</td>\n",
              "    </tr>\n",
              "    <tr>\n",
              "      <th>2056</th>\n",
              "      <td>Portugal</td>\n",
              "      <td>Developed</td>\n",
              "      <td>89.0</td>\n",
              "      <td>78.0</td>\n",
              "      <td>6.9</td>\n",
              "      <td>0.1</td>\n",
              "      <td>2277.53613</td>\n",
              "      <td>0.7</td>\n",
              "      <td>0.5</td>\n",
              "      <td>0.837</td>\n",
              "      <td>16.8</td>\n",
              "    </tr>\n",
              "    <tr>\n",
              "      <th>241</th>\n",
              "      <td>Belgium</td>\n",
              "      <td>Developed</td>\n",
              "      <td>89.0</td>\n",
              "      <td>76.0</td>\n",
              "      <td>63.4</td>\n",
              "      <td>0.1</td>\n",
              "      <td>47439.39684</td>\n",
              "      <td>1.0</td>\n",
              "      <td>1.0</td>\n",
              "      <td>0.890</td>\n",
              "      <td>16.3</td>\n",
              "    </tr>\n",
              "    <tr>\n",
              "      <th>1027</th>\n",
              "      <td>Greece</td>\n",
              "      <td>Developing</td>\n",
              "      <td>88.0</td>\n",
              "      <td>73.0</td>\n",
              "      <td>66.0</td>\n",
              "      <td>0.1</td>\n",
              "      <td>21673.78170</td>\n",
              "      <td>0.8</td>\n",
              "      <td>0.7</td>\n",
              "      <td>0.862</td>\n",
              "      <td>17.2</td>\n",
              "    </tr>\n",
              "    <tr>\n",
              "      <th>131</th>\n",
              "      <td>Austria</td>\n",
              "      <td>Developed</td>\n",
              "      <td>88.0</td>\n",
              "      <td>7.0</td>\n",
              "      <td>56.1</td>\n",
              "      <td>0.1</td>\n",
              "      <td>48333.57273</td>\n",
              "      <td>1.8</td>\n",
              "      <td>2.0</td>\n",
              "      <td>0.884</td>\n",
              "      <td>15.7</td>\n",
              "    </tr>\n",
              "    <tr>\n",
              "      <th>1542</th>\n",
              "      <td>Luxembourg</td>\n",
              "      <td>Developed</td>\n",
              "      <td>88.0</td>\n",
              "      <td>72.0</td>\n",
              "      <td>59.6</td>\n",
              "      <td>0.1</td>\n",
              "      <td>115761.57700</td>\n",
              "      <td>0.9</td>\n",
              "      <td>0.9</td>\n",
              "      <td>0.894</td>\n",
              "      <td>13.9</td>\n",
              "    </tr>\n",
              "    <tr>\n",
              "      <th>132</th>\n",
              "      <td>Austria</td>\n",
              "      <td>Developed</td>\n",
              "      <td>88.0</td>\n",
              "      <td>73.0</td>\n",
              "      <td>55.7</td>\n",
              "      <td>0.1</td>\n",
              "      <td>51126.74139</td>\n",
              "      <td>1.7</td>\n",
              "      <td>2.0</td>\n",
              "      <td>0.880</td>\n",
              "      <td>15.7</td>\n",
              "    </tr>\n",
              "    <tr>\n",
              "      <th>1638</th>\n",
              "      <td>Malta</td>\n",
              "      <td>Developed</td>\n",
              "      <td>87.0</td>\n",
              "      <td>59.0</td>\n",
              "      <td>68.0</td>\n",
              "      <td>0.1</td>\n",
              "      <td>22821.84700</td>\n",
              "      <td>0.8</td>\n",
              "      <td>0.7</td>\n",
              "      <td>0.826</td>\n",
              "      <td>14.8</td>\n",
              "    </tr>\n",
              "    <tr>\n",
              "      <th>242</th>\n",
              "      <td>Belgium</td>\n",
              "      <td>Developed</td>\n",
              "      <td>87.0</td>\n",
              "      <td>77.0</td>\n",
              "      <td>63.0</td>\n",
              "      <td>0.1</td>\n",
              "      <td>4651.38647</td>\n",
              "      <td>1.0</td>\n",
              "      <td>0.9</td>\n",
              "      <td>0.889</td>\n",
              "      <td>16.3</td>\n",
              "    </tr>\n",
              "  </tbody>\n",
              "</table>\n",
              "</div>\n",
              "      <button class=\"colab-df-convert\" onclick=\"convertToInteractive('df-73411a5f-2719-4322-b658-8327449fc449')\"\n",
              "              title=\"Convert this dataframe to an interactive table.\"\n",
              "              style=\"display:none;\">\n",
              "        \n",
              "  <svg xmlns=\"http://www.w3.org/2000/svg\" height=\"24px\"viewBox=\"0 0 24 24\"\n",
              "       width=\"24px\">\n",
              "    <path d=\"M0 0h24v24H0V0z\" fill=\"none\"/>\n",
              "    <path d=\"M18.56 5.44l.94 2.06.94-2.06 2.06-.94-2.06-.94-.94-2.06-.94 2.06-2.06.94zm-11 1L8.5 8.5l.94-2.06 2.06-.94-2.06-.94L8.5 2.5l-.94 2.06-2.06.94zm10 10l.94 2.06.94-2.06 2.06-.94-2.06-.94-.94-2.06-.94 2.06-2.06.94z\"/><path d=\"M17.41 7.96l-1.37-1.37c-.4-.4-.92-.59-1.43-.59-.52 0-1.04.2-1.43.59L10.3 9.45l-7.72 7.72c-.78.78-.78 2.05 0 2.83L4 21.41c.39.39.9.59 1.41.59.51 0 1.02-.2 1.41-.59l7.78-7.78 2.81-2.81c.8-.78.8-2.07 0-2.86zM5.41 20L4 18.59l7.72-7.72 1.47 1.35L5.41 20z\"/>\n",
              "  </svg>\n",
              "      </button>\n",
              "      \n",
              "  <style>\n",
              "    .colab-df-container {\n",
              "      display:flex;\n",
              "      flex-wrap:wrap;\n",
              "      gap: 12px;\n",
              "    }\n",
              "\n",
              "    .colab-df-convert {\n",
              "      background-color: #E8F0FE;\n",
              "      border: none;\n",
              "      border-radius: 50%;\n",
              "      cursor: pointer;\n",
              "      display: none;\n",
              "      fill: #1967D2;\n",
              "      height: 32px;\n",
              "      padding: 0 0 0 0;\n",
              "      width: 32px;\n",
              "    }\n",
              "\n",
              "    .colab-df-convert:hover {\n",
              "      background-color: #E2EBFA;\n",
              "      box-shadow: 0px 1px 2px rgba(60, 64, 67, 0.3), 0px 1px 3px 1px rgba(60, 64, 67, 0.15);\n",
              "      fill: #174EA6;\n",
              "    }\n",
              "\n",
              "    [theme=dark] .colab-df-convert {\n",
              "      background-color: #3B4455;\n",
              "      fill: #D2E3FC;\n",
              "    }\n",
              "\n",
              "    [theme=dark] .colab-df-convert:hover {\n",
              "      background-color: #434B5C;\n",
              "      box-shadow: 0px 1px 3px 1px rgba(0, 0, 0, 0.15);\n",
              "      filter: drop-shadow(0px 1px 2px rgba(0, 0, 0, 0.3));\n",
              "      fill: #FFFFFF;\n",
              "    }\n",
              "  </style>\n",
              "\n",
              "      <script>\n",
              "        const buttonEl =\n",
              "          document.querySelector('#df-73411a5f-2719-4322-b658-8327449fc449 button.colab-df-convert');\n",
              "        buttonEl.style.display =\n",
              "          google.colab.kernel.accessAllowed ? 'block' : 'none';\n",
              "\n",
              "        async function convertToInteractive(key) {\n",
              "          const element = document.querySelector('#df-73411a5f-2719-4322-b658-8327449fc449');\n",
              "          const dataTable =\n",
              "            await google.colab.kernel.invokeFunction('convertToInteractive',\n",
              "                                                     [key], {});\n",
              "          if (!dataTable) return;\n",
              "\n",
              "          const docLinkHtml = 'Like what you see? Visit the ' +\n",
              "            '<a target=\"_blank\" href=https://colab.research.google.com/notebooks/data_table.ipynb>data table notebook</a>'\n",
              "            + ' to learn more about interactive tables.';\n",
              "          element.innerHTML = '';\n",
              "          dataTable['output_type'] = 'display_data';\n",
              "          await google.colab.output.renderOutput(dataTable, element);\n",
              "          const docLink = document.createElement('div');\n",
              "          docLink.innerHTML = docLinkHtml;\n",
              "          element.appendChild(docLink);\n",
              "        }\n",
              "      </script>\n",
              "    </div>\n",
              "  </div>\n",
              "  "
            ],
            "text/plain": [
              "         Country      Status  ...  Income_composition_of_resources  Schooling\n",
              "937       France  Developing  ...                            0.877       16.1\n",
              "995      Germany   Developed  ...                            0.920       17.0\n",
              "2056    Portugal   Developed  ...                            0.837       16.8\n",
              "241      Belgium   Developed  ...                            0.890       16.3\n",
              "1027      Greece  Developing  ...                            0.862       17.2\n",
              "131      Austria   Developed  ...                            0.884       15.7\n",
              "1542  Luxembourg   Developed  ...                            0.894       13.9\n",
              "132      Austria   Developed  ...                            0.880       15.7\n",
              "1638       Malta   Developed  ...                            0.826       14.8\n",
              "242      Belgium   Developed  ...                            0.889       16.3\n",
              "\n",
              "[10 rows x 11 columns]"
            ]
          },
          "metadata": {},
          "execution_count": 110
        }
      ]
    },
    {
      "cell_type": "code",
      "source": [
        "Top_10_countries = Life_expectancy[['Country','Life_expectancy_']]\n",
        "Top_10_countries.head(10)"
      ],
      "metadata": {
        "colab": {
          "base_uri": "https://localhost:8080/",
          "height": 363
        },
        "id": "fmR-chpUEhfr",
        "outputId": "1cb483d5-e973-4f62-b1ab-14af18b163ca"
      },
      "execution_count": null,
      "outputs": [
        {
          "output_type": "execute_result",
          "data": {
            "text/html": [
              "\n",
              "  <div id=\"df-b5504ad8-629d-4425-89d1-49cfb5cec48b\">\n",
              "    <div class=\"colab-df-container\">\n",
              "      <div>\n",
              "<style scoped>\n",
              "    .dataframe tbody tr th:only-of-type {\n",
              "        vertical-align: middle;\n",
              "    }\n",
              "\n",
              "    .dataframe tbody tr th {\n",
              "        vertical-align: top;\n",
              "    }\n",
              "\n",
              "    .dataframe thead th {\n",
              "        text-align: right;\n",
              "    }\n",
              "</style>\n",
              "<table border=\"1\" class=\"dataframe\">\n",
              "  <thead>\n",
              "    <tr style=\"text-align: right;\">\n",
              "      <th></th>\n",
              "      <th>Country</th>\n",
              "      <th>Life_expectancy_</th>\n",
              "    </tr>\n",
              "  </thead>\n",
              "  <tbody>\n",
              "    <tr>\n",
              "      <th>937</th>\n",
              "      <td>France</td>\n",
              "      <td>89.0</td>\n",
              "    </tr>\n",
              "    <tr>\n",
              "      <th>995</th>\n",
              "      <td>Germany</td>\n",
              "      <td>89.0</td>\n",
              "    </tr>\n",
              "    <tr>\n",
              "      <th>2056</th>\n",
              "      <td>Portugal</td>\n",
              "      <td>89.0</td>\n",
              "    </tr>\n",
              "    <tr>\n",
              "      <th>241</th>\n",
              "      <td>Belgium</td>\n",
              "      <td>89.0</td>\n",
              "    </tr>\n",
              "    <tr>\n",
              "      <th>1027</th>\n",
              "      <td>Greece</td>\n",
              "      <td>88.0</td>\n",
              "    </tr>\n",
              "    <tr>\n",
              "      <th>131</th>\n",
              "      <td>Austria</td>\n",
              "      <td>88.0</td>\n",
              "    </tr>\n",
              "    <tr>\n",
              "      <th>1542</th>\n",
              "      <td>Luxembourg</td>\n",
              "      <td>88.0</td>\n",
              "    </tr>\n",
              "    <tr>\n",
              "      <th>132</th>\n",
              "      <td>Austria</td>\n",
              "      <td>88.0</td>\n",
              "    </tr>\n",
              "    <tr>\n",
              "      <th>1638</th>\n",
              "      <td>Malta</td>\n",
              "      <td>87.0</td>\n",
              "    </tr>\n",
              "    <tr>\n",
              "      <th>242</th>\n",
              "      <td>Belgium</td>\n",
              "      <td>87.0</td>\n",
              "    </tr>\n",
              "  </tbody>\n",
              "</table>\n",
              "</div>\n",
              "      <button class=\"colab-df-convert\" onclick=\"convertToInteractive('df-b5504ad8-629d-4425-89d1-49cfb5cec48b')\"\n",
              "              title=\"Convert this dataframe to an interactive table.\"\n",
              "              style=\"display:none;\">\n",
              "        \n",
              "  <svg xmlns=\"http://www.w3.org/2000/svg\" height=\"24px\"viewBox=\"0 0 24 24\"\n",
              "       width=\"24px\">\n",
              "    <path d=\"M0 0h24v24H0V0z\" fill=\"none\"/>\n",
              "    <path d=\"M18.56 5.44l.94 2.06.94-2.06 2.06-.94-2.06-.94-.94-2.06-.94 2.06-2.06.94zm-11 1L8.5 8.5l.94-2.06 2.06-.94-2.06-.94L8.5 2.5l-.94 2.06-2.06.94zm10 10l.94 2.06.94-2.06 2.06-.94-2.06-.94-.94-2.06-.94 2.06-2.06.94z\"/><path d=\"M17.41 7.96l-1.37-1.37c-.4-.4-.92-.59-1.43-.59-.52 0-1.04.2-1.43.59L10.3 9.45l-7.72 7.72c-.78.78-.78 2.05 0 2.83L4 21.41c.39.39.9.59 1.41.59.51 0 1.02-.2 1.41-.59l7.78-7.78 2.81-2.81c.8-.78.8-2.07 0-2.86zM5.41 20L4 18.59l7.72-7.72 1.47 1.35L5.41 20z\"/>\n",
              "  </svg>\n",
              "      </button>\n",
              "      \n",
              "  <style>\n",
              "    .colab-df-container {\n",
              "      display:flex;\n",
              "      flex-wrap:wrap;\n",
              "      gap: 12px;\n",
              "    }\n",
              "\n",
              "    .colab-df-convert {\n",
              "      background-color: #E8F0FE;\n",
              "      border: none;\n",
              "      border-radius: 50%;\n",
              "      cursor: pointer;\n",
              "      display: none;\n",
              "      fill: #1967D2;\n",
              "      height: 32px;\n",
              "      padding: 0 0 0 0;\n",
              "      width: 32px;\n",
              "    }\n",
              "\n",
              "    .colab-df-convert:hover {\n",
              "      background-color: #E2EBFA;\n",
              "      box-shadow: 0px 1px 2px rgba(60, 64, 67, 0.3), 0px 1px 3px 1px rgba(60, 64, 67, 0.15);\n",
              "      fill: #174EA6;\n",
              "    }\n",
              "\n",
              "    [theme=dark] .colab-df-convert {\n",
              "      background-color: #3B4455;\n",
              "      fill: #D2E3FC;\n",
              "    }\n",
              "\n",
              "    [theme=dark] .colab-df-convert:hover {\n",
              "      background-color: #434B5C;\n",
              "      box-shadow: 0px 1px 3px 1px rgba(0, 0, 0, 0.15);\n",
              "      filter: drop-shadow(0px 1px 2px rgba(0, 0, 0, 0.3));\n",
              "      fill: #FFFFFF;\n",
              "    }\n",
              "  </style>\n",
              "\n",
              "      <script>\n",
              "        const buttonEl =\n",
              "          document.querySelector('#df-b5504ad8-629d-4425-89d1-49cfb5cec48b button.colab-df-convert');\n",
              "        buttonEl.style.display =\n",
              "          google.colab.kernel.accessAllowed ? 'block' : 'none';\n",
              "\n",
              "        async function convertToInteractive(key) {\n",
              "          const element = document.querySelector('#df-b5504ad8-629d-4425-89d1-49cfb5cec48b');\n",
              "          const dataTable =\n",
              "            await google.colab.kernel.invokeFunction('convertToInteractive',\n",
              "                                                     [key], {});\n",
              "          if (!dataTable) return;\n",
              "\n",
              "          const docLinkHtml = 'Like what you see? Visit the ' +\n",
              "            '<a target=\"_blank\" href=https://colab.research.google.com/notebooks/data_table.ipynb>data table notebook</a>'\n",
              "            + ' to learn more about interactive tables.';\n",
              "          element.innerHTML = '';\n",
              "          dataTable['output_type'] = 'display_data';\n",
              "          await google.colab.output.renderOutput(dataTable, element);\n",
              "          const docLink = document.createElement('div');\n",
              "          docLink.innerHTML = docLinkHtml;\n",
              "          element.appendChild(docLink);\n",
              "        }\n",
              "      </script>\n",
              "    </div>\n",
              "  </div>\n",
              "  "
            ],
            "text/plain": [
              "         Country  Life_expectancy_\n",
              "937       France              89.0\n",
              "995      Germany              89.0\n",
              "2056    Portugal              89.0\n",
              "241      Belgium              89.0\n",
              "1027      Greece              88.0\n",
              "131      Austria              88.0\n",
              "1542  Luxembourg              88.0\n",
              "132      Austria              88.0\n",
              "1638       Malta              87.0\n",
              "242      Belgium              87.0"
            ]
          },
          "metadata": {},
          "execution_count": 86
        }
      ]
    },
    {
      "cell_type": "markdown",
      "source": [
        "Findings:\n",
        "\n",
        "* Most countries with high life expectancy come from developed countries except France and Greece\n",
        "* citizenz in the top 10 countries can live up to 87 years old and above\n",
        "* as shown from the table and , these top 10 performing countries are able to utilize around 80% or more of their resources, which mean adding to what heatmap result already shown, it could be said that income composition have major impact on life expectancy"
      ],
      "metadata": {
        "id": "clXw9_4IFXpp"
      }
    },
    {
      "cell_type": "markdown",
      "source": [
        "#HIV/AIDS vs life expectancy"
      ],
      "metadata": {
        "id": "Mr9BpcPiQOtg"
      }
    },
    {
      "cell_type": "code",
      "source": [
        "Developing_countries = modified_data[modified_data['Status'] == \"Developing\"]\n",
        "Developed_countries = modified_data[modified_data['Status'] == \"Developed\"]"
      ],
      "metadata": {
        "id": "SJTuQL5SLMuM"
      },
      "execution_count": null,
      "outputs": []
    },
    {
      "cell_type": "code",
      "source": [
        "plt.scatter('Life_expectancy_', '_HIV/AIDS', data = Developing_countries, color = '#DE3163')\n",
        "plt.scatter('Life_expectancy_', '_HIV/AIDS', data = Developed_countries, color = '#40E0D0')\n",
        "plt.xlabel('Life_expectancy_')\n",
        "plt.ylabel('_HIV/AIDS')\n",
        "plt.show()"
      ],
      "metadata": {
        "colab": {
          "base_uri": "https://localhost:8080/",
          "height": 280
        },
        "id": "AsHXbjNhQSBD",
        "outputId": "35a5443c-0f0f-456b-e7fa-6538da88d54c"
      },
      "execution_count": null,
      "outputs": [
        {
          "output_type": "display_data",
          "data": {
            "image/png": "[encoded data removed]",
            "text/plain": [
              "<Figure size 432x288 with 1 Axes>"
            ]
          },
          "metadata": {
            "needs_background": "light"
          }
        }
      ]
    },
    {
      "cell_type": "markdown",
      "source": [
        "#GDP vs life expectancy"
      ],
      "metadata": {
        "id": "6rTT9wj0hXau"
      }
    },
    {
      "cell_type": "code",
      "source": [
        "plt.scatter('Life_expectancy_', 'GDP', data = Developing_countries, color = '#DE3163')\n",
        "plt.scatter('Life_expectancy_', 'GDP', data = Developed_countries, color = '#40E0D0')\n",
        "plt.xlabel('GDP')\n",
        "plt.ylabel('GDP')\n",
        "plt.show()"
      ],
      "metadata": {
        "colab": {
          "base_uri": "https://localhost:8080/",
          "height": 279
        },
        "id": "7g_XVYsnhW2w",
        "outputId": "29e9876f-776b-4946-bf47-7dbfdba132f3"
      },
      "execution_count": null,
      "outputs": [
        {
          "output_type": "display_data",
          "data": {
            "image/png": "[encoded data removed]",
            "text/plain": [
              "<Figure size 432x288 with 1 Axes>"
            ]
          },
          "metadata": {
            "needs_background": "light"
          }
        }
      ]
    },
    {
      "cell_type": "markdown",
      "source": [
        "#Income_composition_of_resources vs life expectancy"
      ],
      "metadata": {
        "id": "ruDbwAPgPttp"
      }
    },
    {
      "cell_type": "code",
      "source": [
        "plt.scatter('Life_expectancy_', 'Income_composition_of_resources', data = Developing_countries, color = '#DE3163')\n",
        "plt.scatter('Life_expectancy_', 'Income_composition_of_resources', data = Developed_countries, color = '#40E0D0')\n",
        "plt.xlabel('Life_expectancy_')\n",
        "plt.ylabel('Income_composition_of_resources')\n",
        "plt.show()"
      ],
      "metadata": {
        "colab": {
          "base_uri": "https://localhost:8080/",
          "height": 280
        },
        "id": "PHYkKCX5PsvB",
        "outputId": "3903b707-cc0b-4734-9209-e90067c280a2"
      },
      "execution_count": null,
      "outputs": [
        {
          "output_type": "display_data",
          "data": {
            "image/png": "[encoded data removed]",
            "text/plain": [
              "<Figure size 432x288 with 1 Axes>"
            ]
          },
          "metadata": {
            "needs_background": "light"
          }
        }
      ]
    },
    {
      "cell_type": "markdown",
      "source": [
        "#schooling vs life expectancy"
      ],
      "metadata": {
        "id": "Fm0pFIWKLa8M"
      }
    },
    {
      "cell_type": "code",
      "source": [
        "plt.scatter('Life_expectancy_', 'Schooling', data = Developing_countries, color = '#DE3163')\n",
        "plt.scatter('Life_expectancy_', 'Schooling', data = Developed_countries, color = '#40E0D0')\n",
        "plt.xlabel('Life_expectancy_')\n",
        "plt.ylabel('Schooling')\n",
        "plt.show()"
      ],
      "metadata": {
        "colab": {
          "base_uri": "https://localhost:8080/",
          "height": 280
        },
        "id": "cyzvoTeHLmG4",
        "outputId": "d09bddb5-1d52-4246-91a5-90a94d3a62a3"
      },
      "execution_count": null,
      "outputs": [
        {
          "output_type": "display_data",
          "data": {
            "image/png": "[encoded data removed]",
            "text/plain": [
              "<Figure size 432x288 with 1 Axes>"
            ]
          },
          "metadata": {
            "needs_background": "light"
          }
        }
      ]
    },
    {
      "cell_type": "markdown",
      "source": [
        "#Modelling"
      ],
      "metadata": {
        "id": "mf7gsZxFMnHl"
      }
    },
    {
      "cell_type": "markdown",
      "source": [
        "# Simple Supervised Regression"
      ],
      "metadata": {
        "id": "dupz8Ue3QmZz"
      }
    },
    {
      "cell_type": "markdown",
      "source": [
        "splitting the data into 75:25 ratio\n",
        "* using only numerical data"
      ],
      "metadata": {
        "id": "fjzXZ2VHOzDp"
      }
    },
    {
      "cell_type": "code",
      "source": [
        "#'Schooling','underweight 10-19 y.o','underweight 5-9 y.o' are removed to avoid multicollinearity \n",
        "y = modified_data[['Life_expectancy_']]\n",
        "x = modified_data[['Adult_Mortality','_BMI_','_HIV/AIDS','GDP','Income_composition_of_resources']]"
      ],
      "metadata": {
        "id": "mslo4t1bjGxj"
      },
      "execution_count": null,
      "outputs": []
    },
    {
      "cell_type": "code",
      "source": [
        "y.shape"
      ],
      "metadata": {
        "colab": {
          "base_uri": "https://localhost:8080/"
        },
        "id": "V4B8sM6NjSvd",
        "outputId": "34d1980b-5fdb-40af-c558-b4a09cc4b368"
      },
      "execution_count": null,
      "outputs": [
        {
          "output_type": "execute_result",
          "data": {
            "text/plain": [
              "(893, 1)"
            ]
          },
          "metadata": {},
          "execution_count": 24
        }
      ]
    },
    {
      "cell_type": "code",
      "source": [
        "x_train, x_test, y_train, y_test = train_test_split(x, y, test_size = 0.25, random_state = 6)"
      ],
      "metadata": {
        "id": "o2EcdQy5O7nv"
      },
      "execution_count": null,
      "outputs": []
    },
    {
      "cell_type": "markdown",
      "source": [
        "### StandardScaler"
      ],
      "metadata": {
        "id": "E0ggsHHLPM82"
      }
    },
    {
      "cell_type": "code",
      "source": [
        "ss = StandardScaler()\n",
        "X_train_scaled = ss.fit_transform(x_train)\n",
        "X_test_scaled = ss.transform(x_test)"
      ],
      "metadata": {
        "id": "jQZTD5rLPbCE"
      },
      "execution_count": null,
      "outputs": []
    },
    {
      "cell_type": "markdown",
      "source": [
        "###Decision Tree Regression"
      ],
      "metadata": {
        "id": "cCv7IwkuQMuz"
      }
    },
    {
      "cell_type": "code",
      "source": [
        "from sklearn.tree import DecisionTreeRegressor\n",
        "\n",
        "dt = DecisionTreeRegressor()"
      ],
      "metadata": {
        "id": "frIFqGpkQL21"
      },
      "execution_count": null,
      "outputs": []
    },
    {
      "cell_type": "code",
      "source": [
        "dt.fit(X_train_scaled, y_train)"
      ],
      "metadata": {
        "colab": {
          "base_uri": "https://localhost:8080/"
        },
        "id": "5IXY9TOfRIFv",
        "outputId": "3f2355ce-f00a-4e8d-c841-73a36f613a31"
      },
      "execution_count": null,
      "outputs": [
        {
          "output_type": "execute_result",
          "data": {
            "text/plain": [
              "DecisionTreeRegressor()"
            ]
          },
          "metadata": {},
          "execution_count": 28
        }
      ]
    },
    {
      "cell_type": "code",
      "source": [
        "y_pred = dt.predict(X_test_scaled)"
      ],
      "metadata": {
        "id": "bGSFFZ6mRhql"
      },
      "execution_count": null,
      "outputs": []
    },
    {
      "cell_type": "code",
      "source": [
        "#evaluating error\n",
        "from sklearn.metrics import r2_score, mean_squared_error\n",
        "print('RMSE:', (mean_squared_error(y_test, y_pred,squared=False)))\n",
        "print('R2:', (mean_squared_error(y_test, y_pred)))\n",
        "print('MSE:', (mean_squared_error(y_test, y_pred,squared=True)))"
      ],
      "metadata": {
        "colab": {
          "base_uri": "https://localhost:8080/"
        },
        "id": "2JYoR9ekRnHS",
        "outputId": "8eb52639-57b7-4fea-fbc5-6b599b5e0e0a"
      },
      "execution_count": null,
      "outputs": [
        {
          "output_type": "stream",
          "name": "stdout",
          "text": [
            "RMSE: 2.469510506731474\n",
            "R2: 6.098482142857143\n",
            "MSE: 6.098482142857143\n"
          ]
        }
      ]
    },
    {
      "cell_type": "markdown",
      "source": [
        "### Random Forest Regression"
      ],
      "metadata": {
        "id": "s6Iq4pClUwKJ"
      }
    },
    {
      "cell_type": "code",
      "source": [
        "from sklearn.ensemble import RandomForestRegressor\n",
        "\n",
        "rf = RandomForestRegressor()\n",
        "rf.fit(X_train_scaled, y_train.values.ravel())\n",
        "y_pred = rf.predict(X_test_scaled)\n",
        "\n",
        "print('RMSE:', (mean_squared_error(y_test, y_pred,squared=False)))\n",
        "print('R2:', (mean_squared_error(y_test, y_pred)))\n",
        "print('MSE:', (mean_squared_error(y_test, y_pred,squared=True)))"
      ],
      "metadata": {
        "colab": {
          "base_uri": "https://localhost:8080/"
        },
        "id": "jSatD2cnVAB_",
        "outputId": "54417a60-9c2a-4b86-bd4f-2573cbb49f85"
      },
      "execution_count": null,
      "outputs": [
        {
          "output_type": "stream",
          "name": "stdout",
          "text": [
            "RMSE: 1.6761876080324152\n",
            "R2: 2.8096048973214294\n",
            "MSE: 2.8096048973214294\n"
          ]
        }
      ]
    },
    {
      "cell_type": "markdown",
      "source": [
        "### K-Nearest-Neighbor Regression"
      ],
      "metadata": {
        "id": "Wcv02X1JVSdN"
      }
    },
    {
      "cell_type": "code",
      "source": [
        "from sklearn.neighbors import KNeighborsRegressor\n",
        "\n",
        "knn = KNeighborsRegressor()\n",
        "knn.fit(X_train_scaled, y_train.values.ravel())\n",
        "y_pred = knn.predict(X_test_scaled)\n",
        "\n",
        "print('RMSE:', (mean_squared_error(y_test, y_pred,squared=False)))\n",
        "print('R2:', (mean_squared_error(y_test, y_pred)))\n",
        "print('MSE:', (mean_squared_error(y_test, y_pred,squared=True)))"
      ],
      "metadata": {
        "colab": {
          "base_uri": "https://localhost:8080/"
        },
        "id": "fN6G9zdLVSAe",
        "outputId": "e95dbf7f-2f9d-450b-970c-04ad60abaa96"
      },
      "execution_count": null,
      "outputs": [
        {
          "output_type": "stream",
          "name": "stdout",
          "text": [
            "RMSE: 1.8290293093019898\n",
            "R2: 3.345348214285714\n",
            "MSE: 3.345348214285714\n"
          ]
        }
      ]
    },
    {
      "cell_type": "markdown",
      "source": [
        "Overall, Random Forest Regression model yields the highest accuracy as seen from the three metric values "
      ],
      "metadata": {
        "id": "jHj0NkQ-Vihu"
      }
    },
    {
      "cell_type": "markdown",
      "source": [
        "# Intermediate Supervised Regression"
      ],
      "metadata": {
        "id": "LGyV3Q9SXis_"
      }
    },
    {
      "cell_type": "code",
      "source": [
        "#'Schooling','underweight 10-19 y.o','underweight 5-9 y.o' are removed to avoid multicollinearity \n",
        "y = modified_data[['Life_expectancy_']]\n",
        "x = modified_data[['Country','Status','Adult_Mortality','_BMI_','_HIV/AIDS','GDP','Income_composition_of_resources']]\n",
        "\n",
        "x_train, x_test, y_train, y_test = train_test_split(x, y, test_size = 0.25, random_state = 6)"
      ],
      "metadata": {
        "id": "jK2CZXm8YhEw"
      },
      "execution_count": null,
      "outputs": []
    },
    {
      "cell_type": "markdown",
      "source": [
        "### OneHotEncoding for categorical data"
      ],
      "metadata": {
        "id": "ScPL6ETyZLek"
      }
    },
    {
      "cell_type": "code",
      "source": [
        "modified_data['Status'] = modified_data['Status'].apply(lambda x: 1 if x == 'Developed' else 0)\n",
        "x_test"
      ],
      "metadata": {
        "colab": {
          "base_uri": "https://localhost:8080/",
          "height": 424
        },
        "id": "A75yfzZidpr3",
        "outputId": "6c8516d4-1de0-41a6-d15e-6affeda34a4a"
      },
      "execution_count": null,
      "outputs": [
        {
          "output_type": "execute_result",
          "data": {
            "text/html": [
              "\n",
              "  <div id=\"df-9ea20faa-427c-40d4-98cc-8720e9f58fb6\">\n",
              "    <div class=\"colab-df-container\">\n",
              "      <div>\n",
              "<style scoped>\n",
              "    .dataframe tbody tr th:only-of-type {\n",
              "        vertical-align: middle;\n",
              "    }\n",
              "\n",
              "    .dataframe tbody tr th {\n",
              "        vertical-align: top;\n",
              "    }\n",
              "\n",
              "    .dataframe thead th {\n",
              "        text-align: right;\n",
              "    }\n",
              "</style>\n",
              "<table border=\"1\" class=\"dataframe\">\n",
              "  <thead>\n",
              "    <tr style=\"text-align: right;\">\n",
              "      <th></th>\n",
              "      <th>Country</th>\n",
              "      <th>Status</th>\n",
              "      <th>Adult_Mortality</th>\n",
              "      <th>_BMI_</th>\n",
              "      <th>_HIV/AIDS</th>\n",
              "      <th>GDP</th>\n",
              "      <th>Income_composition_of_resources</th>\n",
              "    </tr>\n",
              "  </thead>\n",
              "  <tbody>\n",
              "    <tr>\n",
              "      <th>2255</th>\n",
              "      <td>Senegal</td>\n",
              "      <td>0</td>\n",
              "      <td>219.0</td>\n",
              "      <td>21.2</td>\n",
              "      <td>0.5</td>\n",
              "      <td>12.566464</td>\n",
              "      <td>0.444</td>\n",
              "    </tr>\n",
              "    <tr>\n",
              "      <th>4</th>\n",
              "      <td>Afghanistan</td>\n",
              "      <td>0</td>\n",
              "      <td>275.0</td>\n",
              "      <td>17.2</td>\n",
              "      <td>0.1</td>\n",
              "      <td>63.537231</td>\n",
              "      <td>0.454</td>\n",
              "    </tr>\n",
              "    <tr>\n",
              "      <th>324</th>\n",
              "      <td>Bosnia and Herzegovina</td>\n",
              "      <td>0</td>\n",
              "      <td>92.0</td>\n",
              "      <td>53.7</td>\n",
              "      <td>0.1</td>\n",
              "      <td>55.156834</td>\n",
              "      <td>0.711</td>\n",
              "    </tr>\n",
              "    <tr>\n",
              "      <th>581</th>\n",
              "      <td>Colombia</td>\n",
              "      <td>0</td>\n",
              "      <td>15.0</td>\n",
              "      <td>54.2</td>\n",
              "      <td>0.1</td>\n",
              "      <td>625.655440</td>\n",
              "      <td>0.695</td>\n",
              "    </tr>\n",
              "    <tr>\n",
              "      <th>2285</th>\n",
              "      <td>Seychelles</td>\n",
              "      <td>0</td>\n",
              "      <td>177.0</td>\n",
              "      <td>34.2</td>\n",
              "      <td>0.1</td>\n",
              "      <td>12189.951600</td>\n",
              "      <td>0.744</td>\n",
              "    </tr>\n",
              "    <tr>\n",
              "      <th>...</th>\n",
              "      <td>...</td>\n",
              "      <td>...</td>\n",
              "      <td>...</td>\n",
              "      <td>...</td>\n",
              "      <td>...</td>\n",
              "      <td>...</td>\n",
              "      <td>...</td>\n",
              "    </tr>\n",
              "    <tr>\n",
              "      <th>278</th>\n",
              "      <td>Benin</td>\n",
              "      <td>0</td>\n",
              "      <td>259.0</td>\n",
              "      <td>22.5</td>\n",
              "      <td>1.6</td>\n",
              "      <td>793.452430</td>\n",
              "      <td>0.448</td>\n",
              "    </tr>\n",
              "    <tr>\n",
              "      <th>1383</th>\n",
              "      <td>Kiribati</td>\n",
              "      <td>0</td>\n",
              "      <td>27.0</td>\n",
              "      <td>75.2</td>\n",
              "      <td>0.1</td>\n",
              "      <td>1493.165100</td>\n",
              "      <td>0.584</td>\n",
              "    </tr>\n",
              "    <tr>\n",
              "      <th>2651</th>\n",
              "      <td>Trinidad and Tobago</td>\n",
              "      <td>0</td>\n",
              "      <td>172.0</td>\n",
              "      <td>45.0</td>\n",
              "      <td>0.3</td>\n",
              "      <td>1967.832830</td>\n",
              "      <td>0.773</td>\n",
              "    </tr>\n",
              "    <tr>\n",
              "      <th>2844</th>\n",
              "      <td>Vanuatu</td>\n",
              "      <td>0</td>\n",
              "      <td>135.0</td>\n",
              "      <td>51.7</td>\n",
              "      <td>0.1</td>\n",
              "      <td>3167.343560</td>\n",
              "      <td>0.591</td>\n",
              "    </tr>\n",
              "    <tr>\n",
              "      <th>1203</th>\n",
              "      <td>Indonesia</td>\n",
              "      <td>0</td>\n",
              "      <td>179.0</td>\n",
              "      <td>26.5</td>\n",
              "      <td>0.3</td>\n",
              "      <td>3491.595887</td>\n",
              "      <td>0.682</td>\n",
              "    </tr>\n",
              "  </tbody>\n",
              "</table>\n",
              "<p>224 rows × 7 columns</p>\n",
              "</div>\n",
              "      <button class=\"colab-df-convert\" onclick=\"convertToInteractive('df-9ea20faa-427c-40d4-98cc-8720e9f58fb6')\"\n",
              "              title=\"Convert this dataframe to an interactive table.\"\n",
              "              style=\"display:none;\">\n",
              "        \n",
              "  <svg xmlns=\"http://www.w3.org/2000/svg\" height=\"24px\"viewBox=\"0 0 24 24\"\n",
              "       width=\"24px\">\n",
              "    <path d=\"M0 0h24v24H0V0z\" fill=\"none\"/>\n",
              "    <path d=\"M18.56 5.44l.94 2.06.94-2.06 2.06-.94-2.06-.94-.94-2.06-.94 2.06-2.06.94zm-11 1L8.5 8.5l.94-2.06 2.06-.94-2.06-.94L8.5 2.5l-.94 2.06-2.06.94zm10 10l.94 2.06.94-2.06 2.06-.94-2.06-.94-.94-2.06-.94 2.06-2.06.94z\"/><path d=\"M17.41 7.96l-1.37-1.37c-.4-.4-.92-.59-1.43-.59-.52 0-1.04.2-1.43.59L10.3 9.45l-7.72 7.72c-.78.78-.78 2.05 0 2.83L4 21.41c.39.39.9.59 1.41.59.51 0 1.02-.2 1.41-.59l7.78-7.78 2.81-2.81c.8-.78.8-2.07 0-2.86zM5.41 20L4 18.59l7.72-7.72 1.47 1.35L5.41 20z\"/>\n",
              "  </svg>\n",
              "      </button>\n",
              "      \n",
              "  <style>\n",
              "    .colab-df-container {\n",
              "      display:flex;\n",
              "      flex-wrap:wrap;\n",
              "      gap: 12px;\n",
              "    }\n",
              "\n",
              "    .colab-df-convert {\n",
              "      background-color: #E8F0FE;\n",
              "      border: none;\n",
              "      border-radius: 50%;\n",
              "      cursor: pointer;\n",
              "      display: none;\n",
              "      fill: #1967D2;\n",
              "      height: 32px;\n",
              "      padding: 0 0 0 0;\n",
              "      width: 32px;\n",
              "    }\n",
              "\n",
              "    .colab-df-convert:hover {\n",
              "      background-color: #E2EBFA;\n",
              "      box-shadow: 0px 1px 2px rgba(60, 64, 67, 0.3), 0px 1px 3px 1px rgba(60, 64, 67, 0.15);\n",
              "      fill: #174EA6;\n",
              "    }\n",
              "\n",
              "    [theme=dark] .colab-df-convert {\n",
              "      background-color: #3B4455;\n",
              "      fill: #D2E3FC;\n",
              "    }\n",
              "\n",
              "    [theme=dark] .colab-df-convert:hover {\n",
              "      background-color: #434B5C;\n",
              "      box-shadow: 0px 1px 3px 1px rgba(0, 0, 0, 0.15);\n",
              "      filter: drop-shadow(0px 1px 2px rgba(0, 0, 0, 0.3));\n",
              "      fill: #FFFFFF;\n",
              "    }\n",
              "  </style>\n",
              "\n",
              "      <script>\n",
              "        const buttonEl =\n",
              "          document.querySelector('#df-9ea20faa-427c-40d4-98cc-8720e9f58fb6 button.colab-df-convert');\n",
              "        buttonEl.style.display =\n",
              "          google.colab.kernel.accessAllowed ? 'block' : 'none';\n",
              "\n",
              "        async function convertToInteractive(key) {\n",
              "          const element = document.querySelector('#df-9ea20faa-427c-40d4-98cc-8720e9f58fb6');\n",
              "          const dataTable =\n",
              "            await google.colab.kernel.invokeFunction('convertToInteractive',\n",
              "                                                     [key], {});\n",
              "          if (!dataTable) return;\n",
              "\n",
              "          const docLinkHtml = 'Like what you see? Visit the ' +\n",
              "            '<a target=\"_blank\" href=https://colab.research.google.com/notebooks/data_table.ipynb>data table notebook</a>'\n",
              "            + ' to learn more about interactive tables.';\n",
              "          element.innerHTML = '';\n",
              "          dataTable['output_type'] = 'display_data';\n",
              "          await google.colab.output.renderOutput(dataTable, element);\n",
              "          const docLink = document.createElement('div');\n",
              "          docLink.innerHTML = docLinkHtml;\n",
              "          element.appendChild(docLink);\n",
              "        }\n",
              "      </script>\n",
              "    </div>\n",
              "  </div>\n",
              "  "
            ],
            "text/plain": [
              "                     Country  ...  Income_composition_of_resources\n",
              "2255                 Senegal  ...                            0.444\n",
              "4                Afghanistan  ...                            0.454\n",
              "324   Bosnia and Herzegovina  ...                            0.711\n",
              "581                 Colombia  ...                            0.695\n",
              "2285              Seychelles  ...                            0.744\n",
              "...                      ...  ...                              ...\n",
              "278                    Benin  ...                            0.448\n",
              "1383                Kiribati  ...                            0.584\n",
              "2651     Trinidad and Tobago  ...                            0.773\n",
              "2844                 Vanuatu  ...                            0.591\n",
              "1203               Indonesia  ...                            0.682\n",
              "\n",
              "[224 rows x 7 columns]"
            ]
          },
          "metadata": {},
          "execution_count": 114
        }
      ]
    },
    {
      "cell_type": "code",
      "source": [
        "cat=['Country']\n",
        "num = ['Status','Adult_Mortality','_BMI_','_HIV/AIDS','GDP','Income_composition_of_resources']"
      ],
      "metadata": {
        "id": "LYd3UclBd0F4"
      },
      "execution_count": null,
      "outputs": []
    },
    {
      "cell_type": "code",
      "source": [
        "from sklearn.compose import ColumnTransformer\n",
        "from sklearn.pipeline import Pipeline\n",
        "from sklearn.tree import DecisionTreeRegressor\n",
        "from sklearn.ensemble import RandomForestRegressor\n",
        "\n",
        "cat_transform = OneHotEncoder(handle_unknown = 'ignore', sparse=False)\n",
        "\n",
        "\n",
        "preprocessor = ColumnTransformer(\n",
        "    transformers = [\n",
        "        (\"categorical_encoder\", cat_transform, cat),\n",
        "        (\"minmax_scaler\", StandardScaler(), num)\n",
        "    ]\n",
        ")\n",
        "\n",
        "dt_reg = Pipeline(\n",
        "    steps=[(\"preprocessor\", preprocessor), (\"regressor\", DecisionTreeRegressor(random_state = 42))]\n",
        ")\n",
        "\n",
        "rf_reg = Pipeline(\n",
        "    steps=[(\"preprocessor\", preprocessor), (\"regressor\", RandomForestRegressor(random_state = 42))]\n",
        ")\n",
        "\n",
        "kn_reg = Pipeline(\n",
        "    steps=[(\"preprocessor\", preprocessor), (\"regressor\", DecisionTreeRegressor())]\n",
        ")"
      ],
      "metadata": {
        "id": "PvgatM91ePc6"
      },
      "execution_count": null,
      "outputs": []
    },
    {
      "cell_type": "code",
      "source": [
        "def fit_evaluate(model):\n",
        "    model.fit(x_train, y_train)\n",
        "    y_pred = model.predict(x_test)\n",
        "    print('RMSE:', (mean_squared_error(y_test, y_pred,squared=False)))\n",
        "    print('R2:', (mean_squared_error(y_test, y_pred)))\n",
        "    print('MSE:', (mean_squared_error(y_test, y_pred,squared=True)))"
      ],
      "metadata": {
        "id": "t8oE6SKQfwZz"
      },
      "execution_count": null,
      "outputs": []
    },
    {
      "cell_type": "code",
      "source": [
        "fit_evaluate(dt_reg)"
      ],
      "metadata": {
        "colab": {
          "base_uri": "https://localhost:8080/"
        },
        "id": "ZmacjYaJf_I-",
        "outputId": "d99dec8f-5fe7-401d-de5c-0104c7d58bef"
      },
      "execution_count": null,
      "outputs": [
        {
          "output_type": "stream",
          "name": "stdout",
          "text": [
            "RMSE: 1.8481288800142857\n",
            "R2: 3.415580357142858\n",
            "MSE: 3.415580357142858\n"
          ]
        }
      ]
    },
    {
      "cell_type": "code",
      "source": [
        "fit_evaluate(rf_reg)"
      ],
      "metadata": {
        "colab": {
          "base_uri": "https://localhost:8080/"
        },
        "id": "Kpbo9LXmgBAg",
        "outputId": "253561d8-1e70-40ad-f8bf-65da9eadeda4"
      },
      "execution_count": null,
      "outputs": [
        {
          "output_type": "stream",
          "name": "stderr",
          "text": [
            "/usr/local/lib/python3.7/dist-packages/sklearn/pipeline.py:394: DataConversionWarning: A column-vector y was passed when a 1d array was expected. Please change the shape of y to (n_samples,), for example using ravel().\n",
            "  self._final_estimator.fit(Xt, y, **fit_params_last_step)\n"
          ]
        },
        {
          "output_type": "stream",
          "name": "stdout",
          "text": [
            "RMSE: 1.5248445661420245\n",
            "R2: 2.325150950892859\n",
            "MSE: 2.325150950892859\n"
          ]
        }
      ]
    },
    {
      "cell_type": "code",
      "source": [
        "fit_evaluate(kn_reg)"
      ],
      "metadata": {
        "colab": {
          "base_uri": "https://localhost:8080/"
        },
        "id": "3sPiG993gDq7",
        "outputId": "258346ac-1602-4a46-b290-96ebea360b6f"
      },
      "execution_count": null,
      "outputs": [
        {
          "output_type": "stream",
          "name": "stdout",
          "text": [
            "RMSE: 1.952013612364715\n",
            "R2: 3.810357142857143\n",
            "MSE: 3.810357142857143\n"
          ]
        }
      ]
    },
    {
      "cell_type": "markdown",
      "source": [
        "Findings:\n",
        "* After incorporating columns containing categoricals data, the data yields the same result as the one without categorical data which is Random Forest Regression model. \n",
        "* The values resulted from the metrics are also quite similar, therefore adding categoricals data doesnt give any major impact to the result\n",
        "* The lower the RMSE, the better a given model is able to “fit” a dataset. As shown from three of the model, random forest regression has the smallest RMSE value which tells us that it’s able to fit the dataset the best out of the three potential models."
      ],
      "metadata": {
        "id": "p2YARyDgg-C8"
      }
    },
    {
      "cell_type": "markdown",
      "source": [
        "# Hyperparamater Tuning"
      ],
      "metadata": {
        "id": "vu--6ZTQh6T_"
      }
    },
    {
      "cell_type": "markdown",
      "source": [
        "Random forest model will be used since it gives the best result\n",
        "The result from the one containing categoricals data will be used since the metrics give a slight smaller value "
      ],
      "metadata": {
        "id": "lgEuAPVwh-yJ"
      }
    },
    {
      "cell_type": "code",
      "source": [
        "RandomForestRegressor().get_params()"
      ],
      "metadata": {
        "colab": {
          "base_uri": "https://localhost:8080/"
        },
        "id": "dGu6vXoWiOmW",
        "outputId": "dafc2754-794b-42c8-ba39-ca6eefc86c64"
      },
      "execution_count": null,
      "outputs": [
        {
          "output_type": "execute_result",
          "data": {
            "text/plain": [
              "{'bootstrap': True,\n",
              " 'ccp_alpha': 0.0,\n",
              " 'criterion': 'squared_error',\n",
              " 'max_depth': None,\n",
              " 'max_features': 'auto',\n",
              " 'max_leaf_nodes': None,\n",
              " 'max_samples': None,\n",
              " 'min_impurity_decrease': 0.0,\n",
              " 'min_samples_leaf': 1,\n",
              " 'min_samples_split': 2,\n",
              " 'min_weight_fraction_leaf': 0.0,\n",
              " 'n_estimators': 100,\n",
              " 'n_jobs': None,\n",
              " 'oob_score': False,\n",
              " 'random_state': None,\n",
              " 'verbose': 0,\n",
              " 'warm_start': False}"
            ]
          },
          "metadata": {},
          "execution_count": 93
        }
      ]
    },
    {
      "cell_type": "code",
      "source": [
        "from sklearn.model_selection import RandomizedSearchCV\n",
        "\n",
        "# Number of trees in random forest\n",
        "n_estimators = [int(x) for x in np.linspace(start = 200, stop = 700, num = 50)]\n",
        "# Number of features to consider at every split\n",
        "max_features = ['auto', 'sqrt']\n",
        "# Maximum number of levels in tree\n",
        "max_depth = [int(x) for x in np.linspace(10, 110, num = 11)]\n",
        "max_depth.append(None)\n",
        "# Minimum number of samples required to split a node\n",
        "min_samples_split = [2, 5, 10]\n",
        "# Minimum number of samples required at each leaf node\n",
        "min_samples_leaf = [1, 2, 4]\n",
        "# Method of selecting samples for training each tree\n",
        "bootstrap = [True, False]\n",
        "# Create the random grid\n",
        "random_grid = {'n_estimators': n_estimators,\n",
        "               'max_features': max_features,\n",
        "               'max_depth': max_depth,\n",
        "               'min_samples_split': min_samples_split,\n",
        "               'min_samples_leaf': min_samples_leaf,\n",
        "               'bootstrap': bootstrap}"
      ],
      "metadata": {
        "id": "WIfOj-iGiTIp"
      },
      "execution_count": null,
      "outputs": []
    },
    {
      "cell_type": "code",
      "source": [
        "rf = RandomForestRegressor(n_jobs = -1, random_state = 6)\n",
        "rf_random = RandomizedSearchCV(estimator = rf, \n",
        "                              param_distributions = random_grid,\n",
        "                              n_iter = 10,\n",
        "                              cv = 5,\n",
        "                              random_state = 6,\n",
        "                              n_jobs = -1)\n",
        "\n",
        "rf_reg = Pipeline(\n",
        "    steps=[(\"preprocessor\", preprocessor), (\"regressor\", rf_random)]\n",
        ")\n",
        "\n",
        "rf_reg.fit(x_train, y_train.values.ravel())"
      ],
      "metadata": {
        "colab": {
          "base_uri": "https://localhost:8080/"
        },
        "id": "M_fCn4SeiWdR",
        "outputId": "0a5857ae-f15a-4cba-8cb1-29ae20646dfa"
      },
      "execution_count": null,
      "outputs": [
        {
          "output_type": "execute_result",
          "data": {
            "text/plain": [
              "Pipeline(steps=[('preprocessor',\n",
              "                 ColumnTransformer(transformers=[('categorical_encoder',\n",
              "                                                  OneHotEncoder(handle_unknown='ignore',\n",
              "                                                                sparse=False),\n",
              "                                                  ['Country']),\n",
              "                                                 ('minmax_scaler',\n",
              "                                                  StandardScaler(),\n",
              "                                                  ['Status', 'Adult_Mortality',\n",
              "                                                   '_BMI_', '_HIV/AIDS', 'GDP',\n",
              "                                                   'Income_composition_of_resources'])])),\n",
              "                ('regressor',\n",
              "                 RandomizedSearchCV(cv=5,\n",
              "                                    estimator=RandomForestRegressor(n_...\n",
              "                                    n_jobs=-1,\n",
              "                                    param_distributions={'bootstrap': [True,\n",
              "                                                                       False],\n",
              "                                                         'max_depth': [10, 20,\n",
              "                                                                       30, 40,\n",
              "                                                                       50, 60,\n",
              "                                                                       70, 80,\n",
              "                                                                       90, 100,\n",
              "                                                                       110,\n",
              "                                                                       None],\n",
              "                                                         'max_features': ['auto',\n",
              "                                                                          'sqrt'],\n",
              "                                                         'min_samples_leaf': [1,\n",
              "                                                                              2,\n",
              "                                                                              4],\n",
              "                                                         'min_samples_split': [2,\n",
              "                                                                               5,\n",
              "                                                                               10],\n",
              "                                                         'n_estimators': [200,\n",
              "                                                                          210,\n",
              "                                                                          220,\n",
              "                                                                          230,\n",
              "                                                                          240,\n",
              "                                                                          251,\n",
              "                                                                          261,\n",
              "                                                                          271,\n",
              "                                                                          281,\n",
              "                                                                          291,\n",
              "                                                                          302,\n",
              "                                                                          312,\n",
              "                                                                          322,\n",
              "                                                                          332,\n",
              "                                                                          342,\n",
              "                                                                          353,\n",
              "                                                                          363,\n",
              "                                                                          373,\n",
              "                                                                          383,\n",
              "                                                                          393,\n",
              "                                                                          404,\n",
              "                                                                          414,\n",
              "                                                                          424,\n",
              "                                                                          434,\n",
              "                                                                          444,\n",
              "                                                                          455,\n",
              "                                                                          465,\n",
              "                                                                          475,\n",
              "                                                                          485,\n",
              "                                                                          495, ...]},\n",
              "                                    random_state=6))])"
            ]
          },
          "metadata": {},
          "execution_count": 95
        }
      ]
    },
    {
      "cell_type": "code",
      "source": [
        "rf_random.best_params_"
      ],
      "metadata": {
        "colab": {
          "base_uri": "https://localhost:8080/"
        },
        "id": "1m8EaquIiZ-2",
        "outputId": "cce79e2b-2067-40da-c9d8-51cecd4cd2f5"
      },
      "execution_count": null,
      "outputs": [
        {
          "output_type": "execute_result",
          "data": {
            "text/plain": [
              "{'bootstrap': True,\n",
              " 'max_depth': 50,\n",
              " 'max_features': 'sqrt',\n",
              " 'min_samples_leaf': 1,\n",
              " 'min_samples_split': 5,\n",
              " 'n_estimators': 424}"
            ]
          },
          "metadata": {},
          "execution_count": 96
        }
      ]
    },
    {
      "cell_type": "code",
      "source": [
        "final_rf = RandomForestRegressor(n_estimators = 424, min_samples_split = 5, min_samples_leaf = 1,\n",
        "                                max_features = 'sqrt', max_depth = 50, bootstrap = True,\n",
        "                                n_jobs = -1)\n",
        "\n",
        "final_reg = Pipeline(\n",
        "    steps=[(\"preprocessor\", preprocessor), (\"regressor\", final_rf)]\n",
        ")"
      ],
      "metadata": {
        "id": "TqYTTjTsicco"
      },
      "execution_count": null,
      "outputs": []
    },
    {
      "cell_type": "code",
      "source": [
        "final_reg.fit(x_train, y_train.values.ravel())\n",
        "y_pred = final_reg.predict(x_test)\n",
        "print('RMSE:', (mean_squared_error(y_test, y_pred,squared=False)))\n",
        "print('R2:', (mean_squared_error(y_test, y_pred)))\n",
        "print('MSE:', (mean_squared_error(y_test, y_pred,squared=True)))"
      ],
      "metadata": {
        "colab": {
          "base_uri": "https://localhost:8080/"
        },
        "id": "Aylt9b7yigPu",
        "outputId": "4925768c-be07-4811-fd50-9b4db3828702"
      },
      "execution_count": null,
      "outputs": [
        {
          "output_type": "stream",
          "name": "stdout",
          "text": [
            "RMSE: 1.5734981664093575\n",
            "R2: 2.47589647969361\n",
            "MSE: 2.47589647969361\n"
          ]
        }
      ]
    },
    {
      "cell_type": "markdown",
      "source": [
        "# Feature Importance"
      ],
      "metadata": {
        "id": "oa10LOdNkBBA"
      }
    },
    {
      "cell_type": "code",
      "source": [
        "y = modified_data[['Life_expectancy_']]\n",
        "x = modified_data[['Status','Adult_Mortality','_BMI_','_HIV/AIDS','GDP','Income_composition_of_resources']]\n",
        "\n",
        "x_train, x_test, y_train, y_test = train_test_split(x, y, test_size = 0.25, random_state = 6)"
      ],
      "metadata": {
        "id": "K8AYr0NJpgHU"
      },
      "execution_count": null,
      "outputs": []
    },
    {
      "cell_type": "code",
      "source": [
        "ss = StandardScaler()\n",
        "X_train_scaled = ss.fit_transform(x_train)\n",
        "X_test_scaled = ss.transform(x_test)"
      ],
      "metadata": {
        "id": "hg57oB4b3Lj1"
      },
      "execution_count": null,
      "outputs": []
    },
    {
      "cell_type": "code",
      "source": [
        "from sklearn.ensemble import RandomForestRegressor\n",
        "rf = RandomForestRegressor()\n",
        "rf.fit(X_train_scaled, y_train)"
      ],
      "metadata": {
        "colab": {
          "base_uri": "https://localhost:8080/"
        },
        "id": "GQtXL05kxgV2",
        "outputId": "2e71df55-93f0-417c-9afb-a5e6c5aca72e"
      },
      "execution_count": null,
      "outputs": [
        {
          "output_type": "stream",
          "name": "stderr",
          "text": [
            "/usr/local/lib/python3.7/dist-packages/ipykernel_launcher.py:3: DataConversionWarning: A column-vector y was passed when a 1d array was expected. Please change the shape of y to (n_samples,), for example using ravel().\n",
            "  This is separate from the ipykernel package so we can avoid doing imports until\n"
          ]
        },
        {
          "output_type": "execute_result",
          "data": {
            "text/plain": [
              "RandomForestRegressor()"
            ]
          },
          "metadata": {},
          "execution_count": 194
        }
      ]
    },
    {
      "cell_type": "code",
      "source": [
        "rf.feature_importances_"
      ],
      "metadata": {
        "colab": {
          "base_uri": "https://localhost:8080/"
        },
        "id": "qtNkaynbpv_g",
        "outputId": "cdfce8c7-5186-478f-f4a1-219fa36d6819"
      },
      "execution_count": null,
      "outputs": [
        {
          "output_type": "execute_result",
          "data": {
            "text/plain": [
              "array([0.        , 0.13111799, 0.02272367, 0.28430838, 0.01177768,\n",
              "       0.55007227])"
            ]
          },
          "metadata": {},
          "execution_count": 195
        }
      ]
    },
    {
      "cell_type": "code",
      "source": [
        "sorted_idx = rf.feature_importances_.argsort()\n",
        "plt.barh(x_train.columns[sorted_idx], rf.feature_importances_[sorted_idx])\n",
        "plt.xlabel(\"Random Forest Feature Importance\")"
      ],
      "metadata": {
        "colab": {
          "base_uri": "https://localhost:8080/",
          "height": 296
        },
        "id": "9-Myz2DPqGNT",
        "outputId": "129d65cf-9055-480d-9200-893870cd19dd"
      },
      "execution_count": null,
      "outputs": [
        {
          "output_type": "execute_result",
          "data": {
            "text/plain": [
              "Text(0.5, 0, 'Random Forest Feature Importance')"
            ]
          },
          "metadata": {},
          "execution_count": 198
        },
        {
          "output_type": "display_data",
          "data": {
            "image/png": "[encoded data removed]",
            "text/plain": [
              "<Figure size 432x288 with 1 Axes>"
            ]
          },
          "metadata": {
            "needs_background": "light"
          }
        }
      ]
    },
    {
      "cell_type": "markdown",
      "source": [
        "Feature importance refers to techniques that assign a score to input features based on how useful they are at predicting a target variable.\n",
        "\n",
        "Feature importance scores play an important role in a predictive modeling project, including providing insight into the data, insight into the model, and the basis for dimensionality reduction and feature selection that can improve the efficiency and effectiveness of a predictive model on the problem.\n",
        "\n",
        "as can be seen from the graph abox, income is proven to be the most useful feature to predict the life expectancy rate followed by HIV/AIDS, adult mortality, BMI and last GDP\n",
        "\n"
      ],
      "metadata": {
        "id": "wwDdOyPE4Fp9"
      }
    }
  ]
}